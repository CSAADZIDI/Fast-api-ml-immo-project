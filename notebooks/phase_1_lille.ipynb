{
 "cells": [
  {
   "cell_type": "markdown",
   "id": "4b633c95",
   "metadata": {},
   "source": [
    "# Phase 0 : Filtrage des données DVF\n"
   ]
  },
  {
   "cell_type": "code",
   "execution_count": 1,
   "id": "283fc8d3",
   "metadata": {},
   "outputs": [],
   "source": [
    "import numpy as np"
   ]
  },
  {
   "cell_type": "code",
   "execution_count": 2,
   "id": "9cf54f64",
   "metadata": {},
   "outputs": [
    {
     "name": "stdout",
     "output_type": "stream",
     "text": [
      "Export terminé.\n"
     ]
    }
   ],
   "source": [
    "import pandas as pd\n",
    "import os\n",
    "\n",
    "# Chargement\n",
    "df = pd.read_csv(\"../raw_data/ValeursFoncieres-2022.txt\", sep='|', low_memory=False)\n",
    "\n",
    "# Harmonisation\n",
    "df['Commune'] = df['Commune'].str.upper()\n",
    "\n",
    "# Filtrage LILLE\n",
    "df_lille = df[\n",
    "    (df['Commune'] == 'LILLE') &\n",
    "    (df['Nature mutation'] == 'Vente') &\n",
    "    (df['Surface reelle bati'].notna()) &\n",
    "    (df['Valeur fonciere'].notna())\n",
    "].copy()\n",
    "\n",
    "# Filtrage BORDEAUX\n",
    "df_bordeaux = df[\n",
    "    (df['Commune'] == 'BORDEAUX') &\n",
    "    (df['Nature mutation'] == 'Vente') &\n",
    "    (df['Surface reelle bati'].notna()) &\n",
    "    (df['Valeur fonciere'].notna())\n",
    "].copy()\n",
    "\n",
    "# Conversion en float\n",
    "for df_city in [df_lille, df_bordeaux]:\n",
    "    df_city['Valeur fonciere'] = df_city['Valeur fonciere'].astype(str).str.replace(',', '.').str.replace(' ', '').astype(float)\n",
    "    df_city['Surface reelle bati'] = df_city['Surface reelle bati'].astype(str).str.replace(',', '.').str.replace(' ', '').astype(float)\n",
    "\n",
    "# Calcul du prix au m²\n",
    "df_lille['prix_m2'] = df_lille['Valeur fonciere'] / df_lille['Surface reelle bati']\n",
    "df_bordeaux['prix_m2'] = df_bordeaux['Valeur fonciere'] / df_bordeaux['Surface reelle bati']\n",
    "\n",
    "# Export\n",
    "os.makedirs(\"../data\", exist_ok=True)\n",
    "df_lille.to_csv(\"../data/lille_2022.csv\", index=False)\n",
    "df_bordeaux.to_csv(\"../data/bordeaux_2022.csv\", index=False)\n",
    "\n",
    "print(\"Export terminé.\")"
   ]
  },
  {
   "cell_type": "markdown",
   "id": "3c5767d9",
   "metadata": {},
   "source": [
    "# Phase 1 — Modélisation du prix au m² à Lille (2022) pour les logements de 4 pièces"
   ]
  },
  {
   "cell_type": "code",
   "execution_count": 3,
   "id": "a665b03a",
   "metadata": {},
   "outputs": [],
   "source": [
    "df_lille = pd.read_csv(\"../data/lille_2022.csv\")"
   ]
  },
  {
   "cell_type": "code",
   "execution_count": 4,
   "id": "c5af75ad",
   "metadata": {},
   "outputs": [
    {
     "name": "stdout",
     "output_type": "stream",
     "text": [
      "<class 'pandas.core.frame.DataFrame'>\n",
      "RangeIndex: 11354 entries, 0 to 11353\n",
      "Data columns (total 44 columns):\n",
      " #   Column                      Non-Null Count  Dtype  \n",
      "---  ------                      --------------  -----  \n",
      " 0   Identifiant de document     0 non-null      float64\n",
      " 1   Reference document          0 non-null      float64\n",
      " 2   1 Articles CGI              0 non-null      float64\n",
      " 3   2 Articles CGI              0 non-null      float64\n",
      " 4   3 Articles CGI              0 non-null      float64\n",
      " 5   4 Articles CGI              0 non-null      float64\n",
      " 6   5 Articles CGI              0 non-null      float64\n",
      " 7   No disposition              11354 non-null  int64  \n",
      " 8   Date mutation               11354 non-null  object \n",
      " 9   Nature mutation             11354 non-null  object \n",
      " 10  Valeur fonciere             11354 non-null  float64\n",
      " 11  No voie                     11248 non-null  float64\n",
      " 12  B/T/Q                       652 non-null    object \n",
      " 13  Type de voie                11328 non-null  object \n",
      " 14  Code voie                   11354 non-null  object \n",
      " 15  Voie                        11354 non-null  object \n",
      " 16  Code postal                 11354 non-null  float64\n",
      " 17  Commune                     11354 non-null  object \n",
      " 18  Code departement            11354 non-null  int64  \n",
      " 19  Code commune                11354 non-null  int64  \n",
      " 20  Prefixe de section          1528 non-null   float64\n",
      " 21  Section                     11354 non-null  object \n",
      " 22  No plan                     11354 non-null  int64  \n",
      " 23  No Volume                   0 non-null      float64\n",
      " 24  1er lot                     7682 non-null   float64\n",
      " 25  Surface Carrez du 1er lot   2442 non-null   object \n",
      " 26  2eme lot                    2601 non-null   float64\n",
      " 27  Surface Carrez du 2eme lot  613 non-null    object \n",
      " 28  3eme lot                    360 non-null    float64\n",
      " 29  Surface Carrez du 3eme lot  75 non-null     object \n",
      " 30  4eme lot                    106 non-null    float64\n",
      " 31  Surface Carrez du 4eme lot  19 non-null     object \n",
      " 32  5eme lot                    50 non-null     float64\n",
      " 33  Surface Carrez du 5eme lot  16 non-null     object \n",
      " 34  Nombre de lots              11354 non-null  int64  \n",
      " 35  Code type local             11354 non-null  float64\n",
      " 36  Type local                  11354 non-null  object \n",
      " 37  Identifiant local           0 non-null      float64\n",
      " 38  Surface reelle bati         11354 non-null  float64\n",
      " 39  Nombre pieces principales   11354 non-null  float64\n",
      " 40  Nature culture              3672 non-null   object \n",
      " 41  Nature culture speciale     0 non-null      float64\n",
      " 42  Surface terrain             3672 non-null   float64\n",
      " 43  prix_m2                     11354 non-null  float64\n",
      "dtypes: float64(24), int64(5), object(15)\n",
      "memory usage: 3.8+ MB\n"
     ]
    }
   ],
   "source": [
    "df_lille.info()"
   ]
  },
  {
   "cell_type": "code",
   "execution_count": 5,
   "id": "dd8298b9",
   "metadata": {},
   "outputs": [
    {
     "data": {
      "text/plain": [
       "Index(['Identifiant de document', 'Reference document', '1 Articles CGI',\n",
       "       '2 Articles CGI', '3 Articles CGI', '4 Articles CGI', '5 Articles CGI',\n",
       "       'No disposition', 'Date mutation', 'Nature mutation', 'Valeur fonciere',\n",
       "       'No voie', 'B/T/Q', 'Type de voie', 'Code voie', 'Voie', 'Code postal',\n",
       "       'Commune', 'Code departement', 'Code commune', 'Prefixe de section',\n",
       "       'Section', 'No plan', 'No Volume', '1er lot',\n",
       "       'Surface Carrez du 1er lot', '2eme lot', 'Surface Carrez du 2eme lot',\n",
       "       '3eme lot', 'Surface Carrez du 3eme lot', '4eme lot',\n",
       "       'Surface Carrez du 4eme lot', '5eme lot', 'Surface Carrez du 5eme lot',\n",
       "       'Nombre de lots', 'Code type local', 'Type local', 'Identifiant local',\n",
       "       'Surface reelle bati', 'Nombre pieces principales', 'Nature culture',\n",
       "       'Nature culture speciale', 'Surface terrain', 'prix_m2'],\n",
       "      dtype='object')"
      ]
     },
     "execution_count": 5,
     "metadata": {},
     "output_type": "execute_result"
    }
   ],
   "source": [
    "df_lille.columns"
   ]
  },
  {
   "cell_type": "code",
   "execution_count": 6,
   "id": "6f95d94c",
   "metadata": {},
   "outputs": [
    {
     "name": "stderr",
     "output_type": "stream",
     "text": [
      "c:\\Users\\User\\Desktop\\fast-api-ml-immobilier-project\\venv\\lib\\site-packages\\pandas\\core\\nanops.py:1016: RuntimeWarning: invalid value encountered in subtract\n",
      "  sqr = _ensure_numeric((avg - values) ** 2)\n",
      "c:\\Users\\User\\Desktop\\fast-api-ml-immobilier-project\\venv\\lib\\site-packages\\numpy\\lib\\_function_base_impl.py:4653: RuntimeWarning: invalid value encountered in subtract\n",
      "  diff_b_a = subtract(b, a)\n"
     ]
    },
    {
     "data": {
      "text/html": [
       "<div>\n",
       "<style scoped>\n",
       "    .dataframe tbody tr th:only-of-type {\n",
       "        vertical-align: middle;\n",
       "    }\n",
       "\n",
       "    .dataframe tbody tr th {\n",
       "        vertical-align: top;\n",
       "    }\n",
       "\n",
       "    .dataframe thead th {\n",
       "        text-align: right;\n",
       "    }\n",
       "</style>\n",
       "<table border=\"1\" class=\"dataframe\">\n",
       "  <thead>\n",
       "    <tr style=\"text-align: right;\">\n",
       "      <th></th>\n",
       "      <th>Identifiant de document</th>\n",
       "      <th>Reference document</th>\n",
       "      <th>1 Articles CGI</th>\n",
       "      <th>2 Articles CGI</th>\n",
       "      <th>3 Articles CGI</th>\n",
       "      <th>4 Articles CGI</th>\n",
       "      <th>5 Articles CGI</th>\n",
       "      <th>No disposition</th>\n",
       "      <th>Valeur fonciere</th>\n",
       "      <th>No voie</th>\n",
       "      <th>...</th>\n",
       "      <th>4eme lot</th>\n",
       "      <th>5eme lot</th>\n",
       "      <th>Nombre de lots</th>\n",
       "      <th>Code type local</th>\n",
       "      <th>Identifiant local</th>\n",
       "      <th>Surface reelle bati</th>\n",
       "      <th>Nombre pieces principales</th>\n",
       "      <th>Nature culture speciale</th>\n",
       "      <th>Surface terrain</th>\n",
       "      <th>prix_m2</th>\n",
       "    </tr>\n",
       "  </thead>\n",
       "  <tbody>\n",
       "    <tr>\n",
       "      <th>count</th>\n",
       "      <td>0.0</td>\n",
       "      <td>0.0</td>\n",
       "      <td>0.0</td>\n",
       "      <td>0.0</td>\n",
       "      <td>0.0</td>\n",
       "      <td>0.0</td>\n",
       "      <td>0.0</td>\n",
       "      <td>11354.000000</td>\n",
       "      <td>1.135400e+04</td>\n",
       "      <td>11248.000000</td>\n",
       "      <td>...</td>\n",
       "      <td>106.000000</td>\n",
       "      <td>50.000000</td>\n",
       "      <td>11354.000000</td>\n",
       "      <td>11354.000000</td>\n",
       "      <td>0.0</td>\n",
       "      <td>11354.000000</td>\n",
       "      <td>11354.000000</td>\n",
       "      <td>0.0</td>\n",
       "      <td>3672.000000</td>\n",
       "      <td>1.135400e+04</td>\n",
       "    </tr>\n",
       "    <tr>\n",
       "      <th>mean</th>\n",
       "      <td>NaN</td>\n",
       "      <td>NaN</td>\n",
       "      <td>NaN</td>\n",
       "      <td>NaN</td>\n",
       "      <td>NaN</td>\n",
       "      <td>NaN</td>\n",
       "      <td>NaN</td>\n",
       "      <td>1.003963</td>\n",
       "      <td>6.906027e+05</td>\n",
       "      <td>199.709015</td>\n",
       "      <td>...</td>\n",
       "      <td>84.905660</td>\n",
       "      <td>94.180000</td>\n",
       "      <td>0.957812</td>\n",
       "      <td>2.472521</td>\n",
       "      <td>NaN</td>\n",
       "      <td>42.131760</td>\n",
       "      <td>1.323146</td>\n",
       "      <td>NaN</td>\n",
       "      <td>236.449619</td>\n",
       "      <td>inf</td>\n",
       "    </tr>\n",
       "    <tr>\n",
       "      <th>std</th>\n",
       "      <td>NaN</td>\n",
       "      <td>NaN</td>\n",
       "      <td>NaN</td>\n",
       "      <td>NaN</td>\n",
       "      <td>NaN</td>\n",
       "      <td>NaN</td>\n",
       "      <td>NaN</td>\n",
       "      <td>0.062833</td>\n",
       "      <td>2.354745e+06</td>\n",
       "      <td>1072.930117</td>\n",
       "      <td>...</td>\n",
       "      <td>373.543662</td>\n",
       "      <td>346.065388</td>\n",
       "      <td>0.899357</td>\n",
       "      <td>0.789471</td>\n",
       "      <td>NaN</td>\n",
       "      <td>175.379622</td>\n",
       "      <td>1.666542</td>\n",
       "      <td>NaN</td>\n",
       "      <td>629.515964</td>\n",
       "      <td>NaN</td>\n",
       "    </tr>\n",
       "    <tr>\n",
       "      <th>min</th>\n",
       "      <td>NaN</td>\n",
       "      <td>NaN</td>\n",
       "      <td>NaN</td>\n",
       "      <td>NaN</td>\n",
       "      <td>NaN</td>\n",
       "      <td>NaN</td>\n",
       "      <td>NaN</td>\n",
       "      <td>1.000000</td>\n",
       "      <td>1.000000e+00</td>\n",
       "      <td>1.000000</td>\n",
       "      <td>...</td>\n",
       "      <td>3.000000</td>\n",
       "      <td>7.000000</td>\n",
       "      <td>0.000000</td>\n",
       "      <td>1.000000</td>\n",
       "      <td>NaN</td>\n",
       "      <td>0.000000</td>\n",
       "      <td>0.000000</td>\n",
       "      <td>NaN</td>\n",
       "      <td>4.000000</td>\n",
       "      <td>1.347709e-04</td>\n",
       "    </tr>\n",
       "    <tr>\n",
       "      <th>25%</th>\n",
       "      <td>NaN</td>\n",
       "      <td>NaN</td>\n",
       "      <td>NaN</td>\n",
       "      <td>NaN</td>\n",
       "      <td>NaN</td>\n",
       "      <td>NaN</td>\n",
       "      <td>NaN</td>\n",
       "      <td>1.000000</td>\n",
       "      <td>1.545000e+05</td>\n",
       "      <td>13.000000</td>\n",
       "      <td>...</td>\n",
       "      <td>7.000000</td>\n",
       "      <td>9.000000</td>\n",
       "      <td>0.000000</td>\n",
       "      <td>2.000000</td>\n",
       "      <td>NaN</td>\n",
       "      <td>0.000000</td>\n",
       "      <td>0.000000</td>\n",
       "      <td>NaN</td>\n",
       "      <td>78.000000</td>\n",
       "      <td>3.851514e+03</td>\n",
       "    </tr>\n",
       "    <tr>\n",
       "      <th>50%</th>\n",
       "      <td>NaN</td>\n",
       "      <td>NaN</td>\n",
       "      <td>NaN</td>\n",
       "      <td>NaN</td>\n",
       "      <td>NaN</td>\n",
       "      <td>NaN</td>\n",
       "      <td>NaN</td>\n",
       "      <td>1.000000</td>\n",
       "      <td>2.275175e+05</td>\n",
       "      <td>35.000000</td>\n",
       "      <td>...</td>\n",
       "      <td>9.000000</td>\n",
       "      <td>19.000000</td>\n",
       "      <td>1.000000</td>\n",
       "      <td>2.000000</td>\n",
       "      <td>NaN</td>\n",
       "      <td>22.000000</td>\n",
       "      <td>1.000000</td>\n",
       "      <td>NaN</td>\n",
       "      <td>124.000000</td>\n",
       "      <td>1.685750e+04</td>\n",
       "    </tr>\n",
       "    <tr>\n",
       "      <th>75%</th>\n",
       "      <td>NaN</td>\n",
       "      <td>NaN</td>\n",
       "      <td>NaN</td>\n",
       "      <td>NaN</td>\n",
       "      <td>NaN</td>\n",
       "      <td>NaN</td>\n",
       "      <td>NaN</td>\n",
       "      <td>1.000000</td>\n",
       "      <td>3.651500e+05</td>\n",
       "      <td>91.000000</td>\n",
       "      <td>...</td>\n",
       "      <td>31.000000</td>\n",
       "      <td>32.000000</td>\n",
       "      <td>1.000000</td>\n",
       "      <td>3.000000</td>\n",
       "      <td>NaN</td>\n",
       "      <td>59.000000</td>\n",
       "      <td>2.000000</td>\n",
       "      <td>NaN</td>\n",
       "      <td>221.000000</td>\n",
       "      <td>NaN</td>\n",
       "    </tr>\n",
       "    <tr>\n",
       "      <th>max</th>\n",
       "      <td>NaN</td>\n",
       "      <td>NaN</td>\n",
       "      <td>NaN</td>\n",
       "      <td>NaN</td>\n",
       "      <td>NaN</td>\n",
       "      <td>NaN</td>\n",
       "      <td>NaN</td>\n",
       "      <td>2.000000</td>\n",
       "      <td>6.180000e+07</td>\n",
       "      <td>9999.000000</td>\n",
       "      <td>...</td>\n",
       "      <td>3004.000000</td>\n",
       "      <td>2256.000000</td>\n",
       "      <td>17.000000</td>\n",
       "      <td>4.000000</td>\n",
       "      <td>NaN</td>\n",
       "      <td>10945.000000</td>\n",
       "      <td>14.000000</td>\n",
       "      <td>NaN</td>\n",
       "      <td>18147.000000</td>\n",
       "      <td>inf</td>\n",
       "    </tr>\n",
       "  </tbody>\n",
       "</table>\n",
       "<p>8 rows × 29 columns</p>\n",
       "</div>"
      ],
      "text/plain": [
       "       Identifiant de document  Reference document  1 Articles CGI  \\\n",
       "count                      0.0                 0.0             0.0   \n",
       "mean                       NaN                 NaN             NaN   \n",
       "std                        NaN                 NaN             NaN   \n",
       "min                        NaN                 NaN             NaN   \n",
       "25%                        NaN                 NaN             NaN   \n",
       "50%                        NaN                 NaN             NaN   \n",
       "75%                        NaN                 NaN             NaN   \n",
       "max                        NaN                 NaN             NaN   \n",
       "\n",
       "       2 Articles CGI  3 Articles CGI  4 Articles CGI  5 Articles CGI  \\\n",
       "count             0.0             0.0             0.0             0.0   \n",
       "mean              NaN             NaN             NaN             NaN   \n",
       "std               NaN             NaN             NaN             NaN   \n",
       "min               NaN             NaN             NaN             NaN   \n",
       "25%               NaN             NaN             NaN             NaN   \n",
       "50%               NaN             NaN             NaN             NaN   \n",
       "75%               NaN             NaN             NaN             NaN   \n",
       "max               NaN             NaN             NaN             NaN   \n",
       "\n",
       "       No disposition  Valeur fonciere       No voie  ...     4eme lot  \\\n",
       "count    11354.000000     1.135400e+04  11248.000000  ...   106.000000   \n",
       "mean         1.003963     6.906027e+05    199.709015  ...    84.905660   \n",
       "std          0.062833     2.354745e+06   1072.930117  ...   373.543662   \n",
       "min          1.000000     1.000000e+00      1.000000  ...     3.000000   \n",
       "25%          1.000000     1.545000e+05     13.000000  ...     7.000000   \n",
       "50%          1.000000     2.275175e+05     35.000000  ...     9.000000   \n",
       "75%          1.000000     3.651500e+05     91.000000  ...    31.000000   \n",
       "max          2.000000     6.180000e+07   9999.000000  ...  3004.000000   \n",
       "\n",
       "          5eme lot  Nombre de lots  Code type local  Identifiant local  \\\n",
       "count    50.000000    11354.000000     11354.000000                0.0   \n",
       "mean     94.180000        0.957812         2.472521                NaN   \n",
       "std     346.065388        0.899357         0.789471                NaN   \n",
       "min       7.000000        0.000000         1.000000                NaN   \n",
       "25%       9.000000        0.000000         2.000000                NaN   \n",
       "50%      19.000000        1.000000         2.000000                NaN   \n",
       "75%      32.000000        1.000000         3.000000                NaN   \n",
       "max    2256.000000       17.000000         4.000000                NaN   \n",
       "\n",
       "       Surface reelle bati  Nombre pieces principales  \\\n",
       "count         11354.000000               11354.000000   \n",
       "mean             42.131760                   1.323146   \n",
       "std             175.379622                   1.666542   \n",
       "min               0.000000                   0.000000   \n",
       "25%               0.000000                   0.000000   \n",
       "50%              22.000000                   1.000000   \n",
       "75%              59.000000                   2.000000   \n",
       "max           10945.000000                  14.000000   \n",
       "\n",
       "       Nature culture speciale  Surface terrain       prix_m2  \n",
       "count                      0.0      3672.000000  1.135400e+04  \n",
       "mean                       NaN       236.449619           inf  \n",
       "std                        NaN       629.515964           NaN  \n",
       "min                        NaN         4.000000  1.347709e-04  \n",
       "25%                        NaN        78.000000  3.851514e+03  \n",
       "50%                        NaN       124.000000  1.685750e+04  \n",
       "75%                        NaN       221.000000           NaN  \n",
       "max                        NaN     18147.000000           inf  \n",
       "\n",
       "[8 rows x 29 columns]"
      ]
     },
     "execution_count": 6,
     "metadata": {},
     "output_type": "execute_result"
    }
   ],
   "source": [
    "df_lille.describe()"
   ]
  },
  {
   "cell_type": "code",
   "execution_count": 7,
   "id": "f9047f84",
   "metadata": {},
   "outputs": [
    {
     "data": {
      "text/html": [
       "<div>\n",
       "<style scoped>\n",
       "    .dataframe tbody tr th:only-of-type {\n",
       "        vertical-align: middle;\n",
       "    }\n",
       "\n",
       "    .dataframe tbody tr th {\n",
       "        vertical-align: top;\n",
       "    }\n",
       "\n",
       "    .dataframe thead th {\n",
       "        text-align: right;\n",
       "    }\n",
       "</style>\n",
       "<table border=\"1\" class=\"dataframe\">\n",
       "  <thead>\n",
       "    <tr style=\"text-align: right;\">\n",
       "      <th></th>\n",
       "      <th>Date mutation</th>\n",
       "      <th>Nature mutation</th>\n",
       "      <th>B/T/Q</th>\n",
       "      <th>Type de voie</th>\n",
       "      <th>Code voie</th>\n",
       "      <th>Voie</th>\n",
       "      <th>Commune</th>\n",
       "      <th>Section</th>\n",
       "      <th>Surface Carrez du 1er lot</th>\n",
       "      <th>Surface Carrez du 2eme lot</th>\n",
       "      <th>Surface Carrez du 3eme lot</th>\n",
       "      <th>Surface Carrez du 4eme lot</th>\n",
       "      <th>Surface Carrez du 5eme lot</th>\n",
       "      <th>Type local</th>\n",
       "      <th>Nature culture</th>\n",
       "    </tr>\n",
       "  </thead>\n",
       "  <tbody>\n",
       "    <tr>\n",
       "      <th>count</th>\n",
       "      <td>11354</td>\n",
       "      <td>11354</td>\n",
       "      <td>652</td>\n",
       "      <td>11328</td>\n",
       "      <td>11354</td>\n",
       "      <td>11354</td>\n",
       "      <td>11354</td>\n",
       "      <td>11354</td>\n",
       "      <td>2442</td>\n",
       "      <td>613</td>\n",
       "      <td>75</td>\n",
       "      <td>19</td>\n",
       "      <td>16</td>\n",
       "      <td>11354</td>\n",
       "      <td>3672</td>\n",
       "    </tr>\n",
       "    <tr>\n",
       "      <th>unique</th>\n",
       "      <td>274</td>\n",
       "      <td>1</td>\n",
       "      <td>12</td>\n",
       "      <td>22</td>\n",
       "      <td>1041</td>\n",
       "      <td>1022</td>\n",
       "      <td>1</td>\n",
       "      <td>191</td>\n",
       "      <td>1583</td>\n",
       "      <td>296</td>\n",
       "      <td>30</td>\n",
       "      <td>6</td>\n",
       "      <td>4</td>\n",
       "      <td>4</td>\n",
       "      <td>4</td>\n",
       "    </tr>\n",
       "    <tr>\n",
       "      <th>top</th>\n",
       "      <td>11/08/2022</td>\n",
       "      <td>Vente</td>\n",
       "      <td>B</td>\n",
       "      <td>RUE</td>\n",
       "      <td>0657</td>\n",
       "      <td>BAYARD</td>\n",
       "      <td>LILLE</td>\n",
       "      <td>C</td>\n",
       "      <td>319,20</td>\n",
       "      <td>326,40</td>\n",
       "      <td>328,50</td>\n",
       "      <td>326,80</td>\n",
       "      <td>273,50</td>\n",
       "      <td>Dépendance</td>\n",
       "      <td>S</td>\n",
       "    </tr>\n",
       "    <tr>\n",
       "      <th>freq</th>\n",
       "      <td>213</td>\n",
       "      <td>11354</td>\n",
       "      <td>475</td>\n",
       "      <td>9337</td>\n",
       "      <td>273</td>\n",
       "      <td>273</td>\n",
       "      <td>11354</td>\n",
       "      <td>481</td>\n",
       "      <td>11</td>\n",
       "      <td>11</td>\n",
       "      <td>11</td>\n",
       "      <td>11</td>\n",
       "      <td>11</td>\n",
       "      <td>4641</td>\n",
       "      <td>3467</td>\n",
       "    </tr>\n",
       "  </tbody>\n",
       "</table>\n",
       "</div>"
      ],
      "text/plain": [
       "       Date mutation Nature mutation B/T/Q Type de voie Code voie    Voie  \\\n",
       "count          11354           11354   652        11328     11354   11354   \n",
       "unique           274               1    12           22      1041    1022   \n",
       "top       11/08/2022           Vente     B          RUE      0657  BAYARD   \n",
       "freq             213           11354   475         9337       273     273   \n",
       "\n",
       "       Commune Section Surface Carrez du 1er lot Surface Carrez du 2eme lot  \\\n",
       "count    11354   11354                      2442                        613   \n",
       "unique       1     191                      1583                        296   \n",
       "top      LILLE       C                    319,20                     326,40   \n",
       "freq     11354     481                        11                         11   \n",
       "\n",
       "       Surface Carrez du 3eme lot Surface Carrez du 4eme lot  \\\n",
       "count                          75                         19   \n",
       "unique                         30                          6   \n",
       "top                        328,50                     326,80   \n",
       "freq                           11                         11   \n",
       "\n",
       "       Surface Carrez du 5eme lot  Type local Nature culture  \n",
       "count                          16       11354           3672  \n",
       "unique                          4           4              4  \n",
       "top                        273,50  Dépendance              S  \n",
       "freq                           11        4641           3467  "
      ]
     },
     "execution_count": 7,
     "metadata": {},
     "output_type": "execute_result"
    }
   ],
   "source": [
    "df_lille.describe(exclude= np.number)"
   ]
  },
  {
   "cell_type": "code",
   "execution_count": 8,
   "id": "301cd856",
   "metadata": {},
   "outputs": [
    {
     "name": "stdout",
     "output_type": "stream",
     "text": [
      "<class 'pandas.core.series.Series'>\n",
      "RangeIndex: 11354 entries, 0 to 11353\n",
      "Series name: Nombre pieces principales\n",
      "Non-Null Count  Dtype  \n",
      "--------------  -----  \n",
      "11354 non-null  float64\n",
      "dtypes: float64(1)\n",
      "memory usage: 88.8 KB\n"
     ]
    }
   ],
   "source": [
    "df_lille['Nombre pieces principales'].info()"
   ]
  },
  {
   "cell_type": "code",
   "execution_count": 9,
   "id": "0cbd6e3e",
   "metadata": {},
   "outputs": [
    {
     "data": {
      "text/plain": [
       "0        5\n",
       "1        3\n",
       "2        0\n",
       "3        0\n",
       "4        0\n",
       "        ..\n",
       "11349    0\n",
       "11350    0\n",
       "11351    4\n",
       "11352    4\n",
       "11353    4\n",
       "Name: Nombre pieces principales, Length: 11354, dtype: int64"
      ]
     },
     "execution_count": 9,
     "metadata": {},
     "output_type": "execute_result"
    }
   ],
   "source": [
    "df_lille['Nombre pieces principales'].astype('int')"
   ]
  },
  {
   "cell_type": "markdown",
   "id": "fa7e9fcd",
   "metadata": {},
   "source": [
    "## Appart & maison de 4 pieces"
   ]
  },
  {
   "cell_type": "code",
   "execution_count": 10,
   "id": "8c9e0dca",
   "metadata": {},
   "outputs": [],
   "source": [
    "df_lille_filtered = df_lille[df_lille['Nombre pieces principales'] == 4]"
   ]
  },
  {
   "cell_type": "code",
   "execution_count": 11,
   "id": "eef44c3b",
   "metadata": {},
   "outputs": [
    {
     "data": {
      "text/plain": [
       "array(['Maison', 'Appartement'], dtype=object)"
      ]
     },
     "execution_count": 11,
     "metadata": {},
     "output_type": "execute_result"
    }
   ],
   "source": [
    "df_lille_filtered['Type local'].unique()"
   ]
  },
  {
   "cell_type": "code",
   "execution_count": 12,
   "id": "1b6f5c0c",
   "metadata": {},
   "outputs": [],
   "source": [
    "df_maison = df_lille_filtered[df_lille_filtered['Type local'] == 'Maison']"
   ]
  },
  {
   "cell_type": "code",
   "execution_count": 13,
   "id": "c9eab93d",
   "metadata": {},
   "outputs": [],
   "source": [
    "df_appart = df_lille_filtered[df_lille_filtered['Type local'] == 'Appartement']"
   ]
  },
  {
   "cell_type": "markdown",
   "id": "53c55b45",
   "metadata": {},
   "source": [
    "## 4."
   ]
  },
  {
   "cell_type": "code",
   "execution_count": 14,
   "id": "06e1ef0f",
   "metadata": {},
   "outputs": [],
   "source": [
    "required_columns = ['Surface reelle bati', 'Nombre pieces principales',\n",
    "'Type local','Surface terrain','Nombre de lots','prix_m2']"
   ]
  },
  {
   "cell_type": "code",
   "execution_count": 15,
   "id": "7daa8081",
   "metadata": {},
   "outputs": [],
   "source": [
    "df_maison_ = df_maison[required_columns]"
   ]
  },
  {
   "cell_type": "code",
   "execution_count": 16,
   "id": "f2f7e8fe",
   "metadata": {},
   "outputs": [
    {
     "data": {
      "text/plain": [
       "(354, 6)"
      ]
     },
     "execution_count": 16,
     "metadata": {},
     "output_type": "execute_result"
    }
   ],
   "source": [
    "df_maison_.shape"
   ]
  },
  {
   "cell_type": "code",
   "execution_count": 17,
   "id": "c6c7a9a7",
   "metadata": {},
   "outputs": [
    {
     "data": {
      "text/html": [
       "<div>\n",
       "<style scoped>\n",
       "    .dataframe tbody tr th:only-of-type {\n",
       "        vertical-align: middle;\n",
       "    }\n",
       "\n",
       "    .dataframe tbody tr th {\n",
       "        vertical-align: top;\n",
       "    }\n",
       "\n",
       "    .dataframe thead th {\n",
       "        text-align: right;\n",
       "    }\n",
       "</style>\n",
       "<table border=\"1\" class=\"dataframe\">\n",
       "  <thead>\n",
       "    <tr style=\"text-align: right;\">\n",
       "      <th></th>\n",
       "      <th>Type local</th>\n",
       "    </tr>\n",
       "  </thead>\n",
       "  <tbody>\n",
       "    <tr>\n",
       "      <th>count</th>\n",
       "      <td>354</td>\n",
       "    </tr>\n",
       "    <tr>\n",
       "      <th>unique</th>\n",
       "      <td>1</td>\n",
       "    </tr>\n",
       "    <tr>\n",
       "      <th>top</th>\n",
       "      <td>Maison</td>\n",
       "    </tr>\n",
       "    <tr>\n",
       "      <th>freq</th>\n",
       "      <td>354</td>\n",
       "    </tr>\n",
       "  </tbody>\n",
       "</table>\n",
       "</div>"
      ],
      "text/plain": [
       "       Type local\n",
       "count         354\n",
       "unique          1\n",
       "top        Maison\n",
       "freq          354"
      ]
     },
     "execution_count": 17,
     "metadata": {},
     "output_type": "execute_result"
    }
   ],
   "source": [
    "df_maison_.describe(exclude=np.number)"
   ]
  },
  {
   "cell_type": "code",
   "execution_count": 18,
   "id": "b41da18a",
   "metadata": {},
   "outputs": [
    {
     "data": {
      "text/html": [
       "<div>\n",
       "<style scoped>\n",
       "    .dataframe tbody tr th:only-of-type {\n",
       "        vertical-align: middle;\n",
       "    }\n",
       "\n",
       "    .dataframe tbody tr th {\n",
       "        vertical-align: top;\n",
       "    }\n",
       "\n",
       "    .dataframe thead th {\n",
       "        text-align: right;\n",
       "    }\n",
       "</style>\n",
       "<table border=\"1\" class=\"dataframe\">\n",
       "  <thead>\n",
       "    <tr style=\"text-align: right;\">\n",
       "      <th></th>\n",
       "      <th>Surface reelle bati</th>\n",
       "      <th>Nombre pieces principales</th>\n",
       "      <th>Surface terrain</th>\n",
       "      <th>Nombre de lots</th>\n",
       "      <th>prix_m2</th>\n",
       "    </tr>\n",
       "  </thead>\n",
       "  <tbody>\n",
       "    <tr>\n",
       "      <th>count</th>\n",
       "      <td>354.000000</td>\n",
       "      <td>354.0</td>\n",
       "      <td>340.000000</td>\n",
       "      <td>354.000000</td>\n",
       "      <td>354.000000</td>\n",
       "    </tr>\n",
       "    <tr>\n",
       "      <th>mean</th>\n",
       "      <td>84.310734</td>\n",
       "      <td>4.0</td>\n",
       "      <td>142.638235</td>\n",
       "      <td>0.039548</td>\n",
       "      <td>3003.594635</td>\n",
       "    </tr>\n",
       "    <tr>\n",
       "      <th>std</th>\n",
       "      <td>19.462888</td>\n",
       "      <td>0.0</td>\n",
       "      <td>84.800103</td>\n",
       "      <td>0.195171</td>\n",
       "      <td>1116.900260</td>\n",
       "    </tr>\n",
       "    <tr>\n",
       "      <th>min</th>\n",
       "      <td>44.000000</td>\n",
       "      <td>4.0</td>\n",
       "      <td>31.000000</td>\n",
       "      <td>0.000000</td>\n",
       "      <td>144.144144</td>\n",
       "    </tr>\n",
       "    <tr>\n",
       "      <th>25%</th>\n",
       "      <td>71.000000</td>\n",
       "      <td>4.0</td>\n",
       "      <td>84.750000</td>\n",
       "      <td>0.000000</td>\n",
       "      <td>2291.390977</td>\n",
       "    </tr>\n",
       "    <tr>\n",
       "      <th>50%</th>\n",
       "      <td>80.500000</td>\n",
       "      <td>4.0</td>\n",
       "      <td>127.000000</td>\n",
       "      <td>0.000000</td>\n",
       "      <td>2847.948718</td>\n",
       "    </tr>\n",
       "    <tr>\n",
       "      <th>75%</th>\n",
       "      <td>95.000000</td>\n",
       "      <td>4.0</td>\n",
       "      <td>175.250000</td>\n",
       "      <td>0.000000</td>\n",
       "      <td>3481.995492</td>\n",
       "    </tr>\n",
       "    <tr>\n",
       "      <th>max</th>\n",
       "      <td>165.000000</td>\n",
       "      <td>4.0</td>\n",
       "      <td>607.000000</td>\n",
       "      <td>1.000000</td>\n",
       "      <td>9192.073171</td>\n",
       "    </tr>\n",
       "  </tbody>\n",
       "</table>\n",
       "</div>"
      ],
      "text/plain": [
       "       Surface reelle bati  Nombre pieces principales  Surface terrain  \\\n",
       "count           354.000000                      354.0       340.000000   \n",
       "mean             84.310734                        4.0       142.638235   \n",
       "std              19.462888                        0.0        84.800103   \n",
       "min              44.000000                        4.0        31.000000   \n",
       "25%              71.000000                        4.0        84.750000   \n",
       "50%              80.500000                        4.0       127.000000   \n",
       "75%              95.000000                        4.0       175.250000   \n",
       "max             165.000000                        4.0       607.000000   \n",
       "\n",
       "       Nombre de lots      prix_m2  \n",
       "count      354.000000   354.000000  \n",
       "mean         0.039548  3003.594635  \n",
       "std          0.195171  1116.900260  \n",
       "min          0.000000   144.144144  \n",
       "25%          0.000000  2291.390977  \n",
       "50%          0.000000  2847.948718  \n",
       "75%          0.000000  3481.995492  \n",
       "max          1.000000  9192.073171  "
      ]
     },
     "execution_count": 18,
     "metadata": {},
     "output_type": "execute_result"
    }
   ],
   "source": [
    "df_maison_.describe()"
   ]
  },
  {
   "cell_type": "code",
   "execution_count": 19,
   "id": "b4e2562c",
   "metadata": {},
   "outputs": [],
   "source": [
    "df_appart_ = df_appart[required_columns]"
   ]
  },
  {
   "cell_type": "code",
   "execution_count": 20,
   "id": "a67613a4",
   "metadata": {},
   "outputs": [
    {
     "name": "stdout",
     "output_type": "stream",
     "text": [
      "<class 'pandas.core.frame.DataFrame'>\n",
      "Index: 435 entries, 23 to 11351\n",
      "Data columns (total 6 columns):\n",
      " #   Column                     Non-Null Count  Dtype  \n",
      "---  ------                     --------------  -----  \n",
      " 0   Surface reelle bati        435 non-null    float64\n",
      " 1   Nombre pieces principales  435 non-null    float64\n",
      " 2   Type local                 435 non-null    object \n",
      " 3   Surface terrain            49 non-null     float64\n",
      " 4   Nombre de lots             435 non-null    int64  \n",
      " 5   prix_m2                    435 non-null    float64\n",
      "dtypes: float64(4), int64(1), object(1)\n",
      "memory usage: 23.8+ KB\n"
     ]
    }
   ],
   "source": [
    "df_appart_.info()"
   ]
  },
  {
   "cell_type": "markdown",
   "id": "66eaf00e",
   "metadata": {},
   "source": [
    "## 6. **Nettoyer les données** :\n",
    "    - Supprimer les lignes avec valeurs manquantes sur les colonnes utilisées\n",
    "    - Identifier et retirer les valeurs aberrantes (prix au m² trop faible ou trop élevé)"
   ]
  },
  {
   "cell_type": "code",
   "execution_count": 21,
   "id": "3cebff5b",
   "metadata": {},
   "outputs": [
    {
     "data": {
      "text/plain": [
       "Surface reelle bati          False\n",
       "Nombre pieces principales    False\n",
       "Type local                   False\n",
       "Surface terrain               True\n",
       "Nombre de lots               False\n",
       "prix_m2                      False\n",
       "dtype: bool"
      ]
     },
     "execution_count": 21,
     "metadata": {},
     "output_type": "execute_result"
    }
   ],
   "source": [
    "df_maison_.isna().any(axis=0)"
   ]
  },
  {
   "cell_type": "code",
   "execution_count": 22,
   "id": "1f43e445",
   "metadata": {},
   "outputs": [
    {
     "name": "stderr",
     "output_type": "stream",
     "text": [
      "C:\\Users\\User\\AppData\\Local\\Temp\\ipykernel_3068\\2148659308.py:1: SettingWithCopyWarning: \n",
      "A value is trying to be set on a copy of a slice from a DataFrame\n",
      "\n",
      "See the caveats in the documentation: https://pandas.pydata.org/pandas-docs/stable/user_guide/indexing.html#returning-a-view-versus-a-copy\n",
      "  df_maison_.dropna(axis=0, inplace=True)\n"
     ]
    }
   ],
   "source": [
    "df_maison_.dropna(axis=0, inplace=True)"
   ]
  },
  {
   "cell_type": "code",
   "execution_count": 23,
   "id": "8ce05d29",
   "metadata": {},
   "outputs": [
    {
     "data": {
      "text/plain": [
       "(340, 6)"
      ]
     },
     "execution_count": 23,
     "metadata": {},
     "output_type": "execute_result"
    }
   ],
   "source": [
    "df_maison_.shape"
   ]
  },
  {
   "cell_type": "code",
   "execution_count": 24,
   "id": "6533671a",
   "metadata": {},
   "outputs": [
    {
     "data": {
      "text/plain": [
       "Surface reelle bati          False\n",
       "Nombre pieces principales    False\n",
       "Type local                   False\n",
       "Surface terrain               True\n",
       "Nombre de lots               False\n",
       "prix_m2                      False\n",
       "dtype: bool"
      ]
     },
     "execution_count": 24,
     "metadata": {},
     "output_type": "execute_result"
    }
   ],
   "source": [
    "df_appart_.isna().any(axis=0)"
   ]
  },
  {
   "cell_type": "code",
   "execution_count": 25,
   "id": "37794998",
   "metadata": {},
   "outputs": [
    {
     "name": "stderr",
     "output_type": "stream",
     "text": [
      "C:\\Users\\User\\AppData\\Local\\Temp\\ipykernel_3068\\1012287777.py:1: SettingWithCopyWarning: \n",
      "A value is trying to be set on a copy of a slice from a DataFrame\n",
      "\n",
      "See the caveats in the documentation: https://pandas.pydata.org/pandas-docs/stable/user_guide/indexing.html#returning-a-view-versus-a-copy\n",
      "  df_appart_.dropna(axis=0,inplace=True)\n"
     ]
    }
   ],
   "source": [
    "df_appart_.dropna(axis=0,inplace=True)"
   ]
  },
  {
   "cell_type": "code",
   "execution_count": 26,
   "id": "6c6dc94b",
   "metadata": {},
   "outputs": [
    {
     "data": {
      "text/plain": [
       "(49, 6)"
      ]
     },
     "execution_count": 26,
     "metadata": {},
     "output_type": "execute_result"
    }
   ],
   "source": [
    "df_appart_.shape"
   ]
  },
  {
   "cell_type": "markdown",
   "id": "bf225f7e",
   "metadata": {},
   "source": [
    "## Outliers"
   ]
  },
  {
   "cell_type": "code",
   "execution_count": 27,
   "id": "3009d6a8",
   "metadata": {},
   "outputs": [],
   "source": [
    "def drop_outliers(df:pd.DataFrame, column:str):\n",
    "    q1 = df[column].quantile(0.25)\n",
    "    q3 = df[column].quantile(0.75)\n",
    "    IQR=q3-q1\n",
    "\n",
    "    without_outliers = df[((df[column]>(q1-1.5*IQR)) & (df[column]<(q3+1.5*IQR)))]\n",
    "    return without_outliers\n",
    "    \n"
   ]
  },
  {
   "cell_type": "code",
   "execution_count": 28,
   "id": "3cac2f2e",
   "metadata": {},
   "outputs": [],
   "source": [
    "import matplotlib.pyplot as plt\n",
    "import seaborn as sns"
   ]
  },
  {
   "cell_type": "code",
   "execution_count": 29,
   "id": "b2b09b9f",
   "metadata": {},
   "outputs": [
    {
     "data": {
      "image/png": "[encoded data removed]",
      "text/plain": [
       "<Figure size 640x480 with 1 Axes>"
      ]
     },
     "metadata": {},
     "output_type": "display_data"
    }
   ],
   "source": [
    "sns.boxplot(df_maison_['prix_m2'])\n",
    "plt.show()"
   ]
  },
  {
   "cell_type": "code",
   "execution_count": 30,
   "id": "bd7e638e",
   "metadata": {},
   "outputs": [
    {
     "data": {
      "image/png": "[encoded data removed]",
      "text/plain": [
       "<Figure size 640x480 with 1 Axes>"
      ]
     },
     "metadata": {},
     "output_type": "display_data"
    }
   ],
   "source": [
    "plt.boxplot(df_maison_['prix_m2'])\n",
    "plt.show()"
   ]
  },
  {
   "cell_type": "code",
   "execution_count": 31,
   "id": "a8a26da1",
   "metadata": {},
   "outputs": [
    {
     "data": {
      "image/png": "[encoded data removed]",
      "text/plain": [
       "<Figure size 640x480 with 1 Axes>"
      ]
     },
     "metadata": {},
     "output_type": "display_data"
    }
   ],
   "source": [
    "sns.boxplot(df_appart_['prix_m2'])\n",
    "plt.show()"
   ]
  },
  {
   "cell_type": "code",
   "execution_count": 32,
   "id": "05804797",
   "metadata": {},
   "outputs": [
    {
     "data": {
      "text/html": [
       "<div>\n",
       "<style scoped>\n",
       "    .dataframe tbody tr th:only-of-type {\n",
       "        vertical-align: middle;\n",
       "    }\n",
       "\n",
       "    .dataframe tbody tr th {\n",
       "        vertical-align: top;\n",
       "    }\n",
       "\n",
       "    .dataframe thead th {\n",
       "        text-align: right;\n",
       "    }\n",
       "</style>\n",
       "<table border=\"1\" class=\"dataframe\">\n",
       "  <thead>\n",
       "    <tr style=\"text-align: right;\">\n",
       "      <th></th>\n",
       "      <th>Surface reelle bati</th>\n",
       "      <th>Nombre pieces principales</th>\n",
       "      <th>Type local</th>\n",
       "      <th>Surface terrain</th>\n",
       "      <th>Nombre de lots</th>\n",
       "      <th>prix_m2</th>\n",
       "    </tr>\n",
       "  </thead>\n",
       "  <tbody>\n",
       "    <tr>\n",
       "      <th>18</th>\n",
       "      <td>165.0</td>\n",
       "      <td>4.0</td>\n",
       "      <td>Maison</td>\n",
       "      <td>121.0</td>\n",
       "      <td>0</td>\n",
       "      <td>1848.484848</td>\n",
       "    </tr>\n",
       "    <tr>\n",
       "      <th>65</th>\n",
       "      <td>64.0</td>\n",
       "      <td>4.0</td>\n",
       "      <td>Maison</td>\n",
       "      <td>127.0</td>\n",
       "      <td>0</td>\n",
       "      <td>3545.312500</td>\n",
       "    </tr>\n",
       "    <tr>\n",
       "      <th>161</th>\n",
       "      <td>70.0</td>\n",
       "      <td>4.0</td>\n",
       "      <td>Maison</td>\n",
       "      <td>192.0</td>\n",
       "      <td>0</td>\n",
       "      <td>2941.285714</td>\n",
       "    </tr>\n",
       "    <tr>\n",
       "      <th>168</th>\n",
       "      <td>62.0</td>\n",
       "      <td>4.0</td>\n",
       "      <td>Maison</td>\n",
       "      <td>96.0</td>\n",
       "      <td>0</td>\n",
       "      <td>2572.580645</td>\n",
       "    </tr>\n",
       "    <tr>\n",
       "      <th>176</th>\n",
       "      <td>72.0</td>\n",
       "      <td>4.0</td>\n",
       "      <td>Maison</td>\n",
       "      <td>135.0</td>\n",
       "      <td>0</td>\n",
       "      <td>3609.722222</td>\n",
       "    </tr>\n",
       "  </tbody>\n",
       "</table>\n",
       "</div>"
      ],
      "text/plain": [
       "     Surface reelle bati  Nombre pieces principales Type local  \\\n",
       "18                 165.0                        4.0     Maison   \n",
       "65                  64.0                        4.0     Maison   \n",
       "161                 70.0                        4.0     Maison   \n",
       "168                 62.0                        4.0     Maison   \n",
       "176                 72.0                        4.0     Maison   \n",
       "\n",
       "     Surface terrain  Nombre de lots      prix_m2  \n",
       "18             121.0               0  1848.484848  \n",
       "65             127.0               0  3545.312500  \n",
       "161            192.0               0  2941.285714  \n",
       "168             96.0               0  2572.580645  \n",
       "176            135.0               0  3609.722222  "
      ]
     },
     "execution_count": 32,
     "metadata": {},
     "output_type": "execute_result"
    }
   ],
   "source": [
    "df_maison_to_process = drop_outliers(df_maison_, 'prix_m2')\n",
    "df_maison_to_process.head()"
   ]
  },
  {
   "cell_type": "code",
   "execution_count": 33,
   "id": "63fdbfc5",
   "metadata": {},
   "outputs": [
    {
     "data": {
      "text/html": [
       "<div>\n",
       "<style scoped>\n",
       "    .dataframe tbody tr th:only-of-type {\n",
       "        vertical-align: middle;\n",
       "    }\n",
       "\n",
       "    .dataframe tbody tr th {\n",
       "        vertical-align: top;\n",
       "    }\n",
       "\n",
       "    .dataframe thead th {\n",
       "        text-align: right;\n",
       "    }\n",
       "</style>\n",
       "<table border=\"1\" class=\"dataframe\">\n",
       "  <thead>\n",
       "    <tr style=\"text-align: right;\">\n",
       "      <th></th>\n",
       "      <th>Surface reelle bati</th>\n",
       "      <th>Nombre pieces principales</th>\n",
       "      <th>Type local</th>\n",
       "      <th>Surface terrain</th>\n",
       "      <th>Nombre de lots</th>\n",
       "      <th>prix_m2</th>\n",
       "    </tr>\n",
       "  </thead>\n",
       "  <tbody>\n",
       "    <tr>\n",
       "      <th>394</th>\n",
       "      <td>116.0</td>\n",
       "      <td>4.0</td>\n",
       "      <td>Appartement</td>\n",
       "      <td>155.0</td>\n",
       "      <td>0</td>\n",
       "      <td>1465.517241</td>\n",
       "    </tr>\n",
       "    <tr>\n",
       "      <th>575</th>\n",
       "      <td>170.0</td>\n",
       "      <td>4.0</td>\n",
       "      <td>Appartement</td>\n",
       "      <td>221.0</td>\n",
       "      <td>0</td>\n",
       "      <td>3058.823529</td>\n",
       "    </tr>\n",
       "    <tr>\n",
       "      <th>940</th>\n",
       "      <td>53.0</td>\n",
       "      <td>4.0</td>\n",
       "      <td>Appartement</td>\n",
       "      <td>105.0</td>\n",
       "      <td>0</td>\n",
       "      <td>27735.849057</td>\n",
       "    </tr>\n",
       "    <tr>\n",
       "      <th>1249</th>\n",
       "      <td>65.0</td>\n",
       "      <td>4.0</td>\n",
       "      <td>Appartement</td>\n",
       "      <td>176.0</td>\n",
       "      <td>0</td>\n",
       "      <td>9230.769231</td>\n",
       "    </tr>\n",
       "    <tr>\n",
       "      <th>1251</th>\n",
       "      <td>65.0</td>\n",
       "      <td>4.0</td>\n",
       "      <td>Appartement</td>\n",
       "      <td>176.0</td>\n",
       "      <td>0</td>\n",
       "      <td>9230.769231</td>\n",
       "    </tr>\n",
       "  </tbody>\n",
       "</table>\n",
       "</div>"
      ],
      "text/plain": [
       "      Surface reelle bati  Nombre pieces principales   Type local  \\\n",
       "394                 116.0                        4.0  Appartement   \n",
       "575                 170.0                        4.0  Appartement   \n",
       "940                  53.0                        4.0  Appartement   \n",
       "1249                 65.0                        4.0  Appartement   \n",
       "1251                 65.0                        4.0  Appartement   \n",
       "\n",
       "      Surface terrain  Nombre de lots       prix_m2  \n",
       "394             155.0               0   1465.517241  \n",
       "575             221.0               0   3058.823529  \n",
       "940             105.0               0  27735.849057  \n",
       "1249            176.0               0   9230.769231  \n",
       "1251            176.0               0   9230.769231  "
      ]
     },
     "execution_count": 33,
     "metadata": {},
     "output_type": "execute_result"
    }
   ],
   "source": [
    "df_appart_to_process = drop_outliers(df_appart_, 'prix_m2')\n",
    "df_appart_to_process.head()"
   ]
  },
  {
   "cell_type": "markdown",
   "id": "680b4c75",
   "metadata": {},
   "source": [
    "### Appart"
   ]
  },
  {
   "cell_type": "code",
   "execution_count": 34,
   "id": "5f5d78b0",
   "metadata": {},
   "outputs": [],
   "source": [
    "df_appart_num_fea = df_appart_to_process.drop('Type local', axis=1)"
   ]
  },
  {
   "cell_type": "code",
   "execution_count": 35,
   "id": "02d2ddb0",
   "metadata": {},
   "outputs": [
    {
     "data": {
      "text/html": [
       "<div>\n",
       "<style scoped>\n",
       "    .dataframe tbody tr th:only-of-type {\n",
       "        vertical-align: middle;\n",
       "    }\n",
       "\n",
       "    .dataframe tbody tr th {\n",
       "        vertical-align: top;\n",
       "    }\n",
       "\n",
       "    .dataframe thead th {\n",
       "        text-align: right;\n",
       "    }\n",
       "</style>\n",
       "<table border=\"1\" class=\"dataframe\">\n",
       "  <thead>\n",
       "    <tr style=\"text-align: right;\">\n",
       "      <th></th>\n",
       "      <th>Surface reelle bati</th>\n",
       "      <th>Nombre pieces principales</th>\n",
       "      <th>Surface terrain</th>\n",
       "      <th>Nombre de lots</th>\n",
       "      <th>prix_m2</th>\n",
       "    </tr>\n",
       "  </thead>\n",
       "  <tbody>\n",
       "    <tr>\n",
       "      <th>count</th>\n",
       "      <td>49.000000</td>\n",
       "      <td>49.0</td>\n",
       "      <td>49.000000</td>\n",
       "      <td>49.0</td>\n",
       "      <td>49.000000</td>\n",
       "    </tr>\n",
       "    <tr>\n",
       "      <th>mean</th>\n",
       "      <td>85.204082</td>\n",
       "      <td>4.0</td>\n",
       "      <td>232.714286</td>\n",
       "      <td>0.0</td>\n",
       "      <td>17667.561781</td>\n",
       "    </tr>\n",
       "    <tr>\n",
       "      <th>std</th>\n",
       "      <td>26.742584</td>\n",
       "      <td>0.0</td>\n",
       "      <td>193.109533</td>\n",
       "      <td>0.0</td>\n",
       "      <td>15911.591246</td>\n",
       "    </tr>\n",
       "    <tr>\n",
       "      <th>min</th>\n",
       "      <td>18.000000</td>\n",
       "      <td>4.0</td>\n",
       "      <td>43.000000</td>\n",
       "      <td>0.0</td>\n",
       "      <td>416.666667</td>\n",
       "    </tr>\n",
       "    <tr>\n",
       "      <th>25%</th>\n",
       "      <td>72.000000</td>\n",
       "      <td>4.0</td>\n",
       "      <td>136.000000</td>\n",
       "      <td>0.0</td>\n",
       "      <td>6000.000000</td>\n",
       "    </tr>\n",
       "    <tr>\n",
       "      <th>50%</th>\n",
       "      <td>84.000000</td>\n",
       "      <td>4.0</td>\n",
       "      <td>176.000000</td>\n",
       "      <td>0.0</td>\n",
       "      <td>9230.769231</td>\n",
       "    </tr>\n",
       "    <tr>\n",
       "      <th>75%</th>\n",
       "      <td>94.000000</td>\n",
       "      <td>4.0</td>\n",
       "      <td>306.000000</td>\n",
       "      <td>0.0</td>\n",
       "      <td>25654.761905</td>\n",
       "    </tr>\n",
       "    <tr>\n",
       "      <th>max</th>\n",
       "      <td>170.000000</td>\n",
       "      <td>4.0</td>\n",
       "      <td>1207.000000</td>\n",
       "      <td>0.0</td>\n",
       "      <td>52065.934066</td>\n",
       "    </tr>\n",
       "  </tbody>\n",
       "</table>\n",
       "</div>"
      ],
      "text/plain": [
       "       Surface reelle bati  Nombre pieces principales  Surface terrain  \\\n",
       "count            49.000000                       49.0        49.000000   \n",
       "mean             85.204082                        4.0       232.714286   \n",
       "std              26.742584                        0.0       193.109533   \n",
       "min              18.000000                        4.0        43.000000   \n",
       "25%              72.000000                        4.0       136.000000   \n",
       "50%              84.000000                        4.0       176.000000   \n",
       "75%              94.000000                        4.0       306.000000   \n",
       "max             170.000000                        4.0      1207.000000   \n",
       "\n",
       "       Nombre de lots       prix_m2  \n",
       "count            49.0     49.000000  \n",
       "mean              0.0  17667.561781  \n",
       "std               0.0  15911.591246  \n",
       "min               0.0    416.666667  \n",
       "25%               0.0   6000.000000  \n",
       "50%               0.0   9230.769231  \n",
       "75%               0.0  25654.761905  \n",
       "max               0.0  52065.934066  "
      ]
     },
     "execution_count": 35,
     "metadata": {},
     "output_type": "execute_result"
    }
   ],
   "source": [
    "df_appart_num_fea.describe()"
   ]
  },
  {
   "cell_type": "code",
   "execution_count": 36,
   "id": "ea376692",
   "metadata": {},
   "outputs": [
    {
     "data": {
      "image/png": "[encoded data removed]",
      "text/plain": [
       "<Figure size 640x480 with 2 Axes>"
      ]
     },
     "metadata": {},
     "output_type": "display_data"
    }
   ],
   "source": [
    "sns.heatmap(df_appart_num_fea.corr(), annot=True, cmap='coolwarm', fmt=\".2f\")\n",
    "plt.title('Correlation Matrix')\n",
    "plt.show()"
   ]
  },
  {
   "cell_type": "code",
   "execution_count": 37,
   "id": "4812db13",
   "metadata": {},
   "outputs": [
    {
     "data": {
      "text/plain": [
       "array([[<Axes: title={'center': 'Surface reelle bati'}>,\n",
       "        <Axes: title={'center': 'Nombre pieces principales'}>],\n",
       "       [<Axes: title={'center': 'Surface terrain'}>,\n",
       "        <Axes: title={'center': 'Nombre de lots'}>],\n",
       "       [<Axes: title={'center': 'prix_m2'}>, <Axes: >]], dtype=object)"
      ]
     },
     "execution_count": 37,
     "metadata": {},
     "output_type": "execute_result"
    },
    {
     "data": {
      "image/png": "[encoded data removed]",
      "text/plain": [
       "<Figure size 640x480 with 6 Axes>"
      ]
     },
     "metadata": {},
     "output_type": "display_data"
    }
   ],
   "source": [
    "df_appart_num_fea.hist()"
   ]
  },
  {
   "cell_type": "code",
   "execution_count": 38,
   "id": "2669035c",
   "metadata": {},
   "outputs": [
    {
     "data": {
      "image/png": "[encoded data removed]",
      "text/plain": [
       "<Figure size 640x480 with 1 Axes>"
      ]
     },
     "metadata": {},
     "output_type": "display_data"
    }
   ],
   "source": [
    "plt.scatter(df_appart_num_fea['Surface terrain'],df_appart_num_fea['prix_m2'])\n",
    "plt.xlabel('Surface terrain')\n",
    "plt.ylabel('prix_m2')\n",
    "plt.show()"
   ]
  },
  {
   "cell_type": "code",
   "execution_count": 39,
   "id": "0b625cfa",
   "metadata": {},
   "outputs": [
    {
     "data": {
      "image/png": "[encoded data removed]",
      "text/plain": [
       "<Figure size 640x480 with 1 Axes>"
      ]
     },
     "metadata": {},
     "output_type": "display_data"
    }
   ],
   "source": [
    "plt.scatter(df_appart_num_fea['Surface reelle bati'],df_appart_num_fea['prix_m2'])\n",
    "plt.xlabel('Surface reelle bati')\n",
    "plt.ylabel('prix_m2')\n",
    "plt.show()"
   ]
  },
  {
   "cell_type": "markdown",
   "id": "64ec82b9",
   "metadata": {},
   "source": [
    "### Maison"
   ]
  },
  {
   "cell_type": "code",
   "execution_count": 40,
   "id": "6aa455e1",
   "metadata": {},
   "outputs": [],
   "source": [
    "df_maison_num_fea = df_maison_to_process.drop('Type local', axis=1)"
   ]
  },
  {
   "cell_type": "code",
   "execution_count": 41,
   "id": "38a87375",
   "metadata": {},
   "outputs": [
    {
     "data": {
      "image/png": "[encoded data removed]",
      "text/plain": [
       "<Figure size 640x480 with 2 Axes>"
      ]
     },
     "metadata": {},
     "output_type": "display_data"
    }
   ],
   "source": [
    "sns.heatmap(df_maison_num_fea.corr(), annot=True, cmap='coolwarm', fmt=\".2f\")\n",
    "plt.title('Correlation Matrix')\n",
    "plt.show()"
   ]
  },
  {
   "cell_type": "code",
   "execution_count": 42,
   "id": "1acdcde9",
   "metadata": {},
   "outputs": [],
   "source": [
    "#df_numeric = df_maison_to_process.select_dtypes(include='number')"
   ]
  },
  {
   "cell_type": "code",
   "execution_count": 43,
   "id": "fb8da73f",
   "metadata": {},
   "outputs": [
    {
     "data": {
      "text/plain": [
       "array([[<Axes: title={'center': 'Surface reelle bati'}>,\n",
       "        <Axes: title={'center': 'Nombre pieces principales'}>],\n",
       "       [<Axes: title={'center': 'Surface terrain'}>,\n",
       "        <Axes: title={'center': 'Nombre de lots'}>],\n",
       "       [<Axes: title={'center': 'prix_m2'}>, <Axes: >]], dtype=object)"
      ]
     },
     "execution_count": 43,
     "metadata": {},
     "output_type": "execute_result"
    },
    {
     "data": {
      "image/png": "[encoded data removed]",
      "text/plain": [
       "<Figure size 640x480 with 6 Axes>"
      ]
     },
     "metadata": {},
     "output_type": "display_data"
    }
   ],
   "source": [
    "df_maison_num_fea.hist()"
   ]
  },
  {
   "cell_type": "code",
   "execution_count": 44,
   "id": "9fbf35d8",
   "metadata": {},
   "outputs": [
    {
     "data": {
      "image/png": "[encoded data removed]",
      "text/plain": [
       "<Figure size 640x480 with 1 Axes>"
      ]
     },
     "metadata": {},
     "output_type": "display_data"
    }
   ],
   "source": [
    "plt.scatter(df_maison_num_fea['Surface terrain'],df_maison_num_fea['prix_m2'])\n",
    "plt.xlabel('Surface terrain')\n",
    "plt.ylabel('prix_m2')\n",
    "plt.show()"
   ]
  },
  {
   "cell_type": "code",
   "execution_count": 45,
   "id": "8f5a7b14",
   "metadata": {},
   "outputs": [
    {
     "data": {
      "image/png": "[encoded data removed]",
      "text/plain": [
       "<Figure size 640x480 with 1 Axes>"
      ]
     },
     "metadata": {},
     "output_type": "display_data"
    }
   ],
   "source": [
    "plt.scatter(df_maison_num_fea['Surface reelle bati'],df_maison_num_fea['prix_m2'])\n",
    "plt.xlabel('Surface reelle bati')\n",
    "plt.ylabel('prix_m2')\n",
    "plt.show()"
   ]
  },
  {
   "cell_type": "code",
   "execution_count": 46,
   "id": "94f1d967",
   "metadata": {},
   "outputs": [],
   "source": [
    "from sklearn.model_selection import train_test_split"
   ]
  },
  {
   "cell_type": "code",
   "execution_count": 47,
   "id": "3c2f52ff",
   "metadata": {},
   "outputs": [],
   "source": [
    "from sklearn.preprocessing import StandardScaler"
   ]
  },
  {
   "cell_type": "markdown",
   "id": "ce73079c",
   "metadata": {},
   "source": [
    "## 7."
   ]
  },
  {
   "cell_type": "markdown",
   "id": "17d3ee54",
   "metadata": {},
   "source": [
    "### Appart"
   ]
  },
  {
   "cell_type": "code",
   "execution_count": 48,
   "id": "97073e70",
   "metadata": {},
   "outputs": [],
   "source": [
    "# X, y calculation\n",
    "X_appart = df_appart_to_process.drop(columns=['Type local','prix_m2'], axis = 1)\n",
    "y_appart = df_appart_to_process[['prix_m2']]"
   ]
  },
  {
   "cell_type": "code",
   "execution_count": 49,
   "id": "e5804e1b",
   "metadata": {},
   "outputs": [
    {
     "name": "stdout",
     "output_type": "stream",
     "text": [
      "<class 'pandas.core.frame.DataFrame'>\n",
      "Index: 49 entries, 394 to 10447\n",
      "Data columns (total 4 columns):\n",
      " #   Column                     Non-Null Count  Dtype  \n",
      "---  ------                     --------------  -----  \n",
      " 0   Surface reelle bati        49 non-null     float64\n",
      " 1   Nombre pieces principales  49 non-null     float64\n",
      " 2   Surface terrain            49 non-null     float64\n",
      " 3   Nombre de lots             49 non-null     int64  \n",
      "dtypes: float64(3), int64(1)\n",
      "memory usage: 1.9 KB\n"
     ]
    }
   ],
   "source": [
    "X_appart.info()"
   ]
  },
  {
   "cell_type": "code",
   "execution_count": 126,
   "id": "c72e8bb2",
   "metadata": {},
   "outputs": [
    {
     "data": {
      "text/plain": [
       "(49, 4)"
      ]
     },
     "execution_count": 126,
     "metadata": {},
     "output_type": "execute_result"
    }
   ],
   "source": [
    "X_appart.shape"
   ]
  },
  {
   "cell_type": "code",
   "execution_count": 50,
   "id": "5303f421",
   "metadata": {},
   "outputs": [],
   "source": [
    "# Splitting train & test data\n",
    "Xa_train,  Xa_test, ya_train, ya_test = train_test_split(X_appart,y_appart,test_size = 0.2, random_state=42)"
   ]
  },
  {
   "cell_type": "code",
   "execution_count": 51,
   "id": "ce5bbb20",
   "metadata": {},
   "outputs": [],
   "source": [
    "# Standardization\n",
    "ScalerXa = StandardScaler()\n",
    "Scalerya = StandardScaler()"
   ]
  },
  {
   "cell_type": "code",
   "execution_count": 52,
   "id": "46d4eb86",
   "metadata": {},
   "outputs": [],
   "source": [
    "# train data\n",
    "Xa_train_scaled = ScalerXa.fit_transform(Xa_train)\n",
    "ya_train_scaled = Scalerya.fit_transform(ya_train)\n",
    "\n",
    "# test data\n",
    "Xa_test_scaled = ScalerXa.transform(Xa_test)\n",
    "ya_test_scaled = Scalerya.transform(ya_test)"
   ]
  },
  {
   "cell_type": "markdown",
   "id": "095568df",
   "metadata": {},
   "source": [
    "### Maison"
   ]
  },
  {
   "cell_type": "code",
   "execution_count": 53,
   "id": "9bac82a8",
   "metadata": {},
   "outputs": [],
   "source": [
    "X_maison = df_maison_to_process.drop(columns=['Type local','prix_m2'], axis = 1)\n",
    "y_maison = df_maison_to_process[['prix_m2']]"
   ]
  },
  {
   "cell_type": "code",
   "execution_count": 127,
   "id": "2237cf51",
   "metadata": {},
   "outputs": [
    {
     "data": {
      "text/plain": [
       "(326, 4)"
      ]
     },
     "execution_count": 127,
     "metadata": {},
     "output_type": "execute_result"
    }
   ],
   "source": [
    "X_maison.shape"
   ]
  },
  {
   "cell_type": "code",
   "execution_count": 54,
   "id": "7cee9fec",
   "metadata": {},
   "outputs": [
    {
     "name": "stdout",
     "output_type": "stream",
     "text": [
      "<class 'pandas.core.frame.DataFrame'>\n",
      "Index: 326 entries, 18 to 11353\n",
      "Data columns (total 4 columns):\n",
      " #   Column                     Non-Null Count  Dtype  \n",
      "---  ------                     --------------  -----  \n",
      " 0   Surface reelle bati        326 non-null    float64\n",
      " 1   Nombre pieces principales  326 non-null    float64\n",
      " 2   Surface terrain            326 non-null    float64\n",
      " 3   Nombre de lots             326 non-null    int64  \n",
      "dtypes: float64(3), int64(1)\n",
      "memory usage: 12.7 KB\n"
     ]
    }
   ],
   "source": [
    "X_maison.info()"
   ]
  },
  {
   "cell_type": "code",
   "execution_count": 55,
   "id": "8607ebf3",
   "metadata": {},
   "outputs": [],
   "source": [
    "Xm_train,  Xm_test, ym_train, ym_test = train_test_split(X_maison,y_maison,test_size = 0.2, random_state=42)"
   ]
  },
  {
   "cell_type": "code",
   "execution_count": 56,
   "id": "cd7e2836",
   "metadata": {},
   "outputs": [],
   "source": [
    "ScalerXm = StandardScaler()\n",
    "Scalerym = StandardScaler()\n",
    "# train data\n",
    "Xm_train_scaled = ScalerXm.fit_transform(Xm_train)\n",
    "ym_train_scaled = Scalerym.fit_transform(ym_train)\n",
    "\n",
    "# test data\n",
    "Xm_test_scaled = ScalerXm.transform(Xm_test)\n",
    "ym_test_scaled = Scalerym.transform(ym_test)"
   ]
  },
  {
   "cell_type": "markdown",
   "id": "5c024741",
   "metadata": {},
   "source": [
    "## 8. scikit-learn models"
   ]
  },
  {
   "cell_type": "code",
   "execution_count": 57,
   "id": "19412cc7",
   "metadata": {},
   "outputs": [],
   "source": [
    "from sklearn.linear_model import LinearRegression\n",
    "from sklearn.tree import DecisionTreeRegressor\n",
    "from sklearn.ensemble import RandomForestRegressor\n",
    "from sklearn.metrics import mean_squared_error"
   ]
  },
  {
   "cell_type": "code",
   "execution_count": 58,
   "id": "d083daa3",
   "metadata": {},
   "outputs": [],
   "source": [
    "lg = LinearRegression()\n",
    "dt = DecisionTreeRegressor()\n",
    "rf = RandomForestRegressor()\n",
    "\n",
    "models = [lg, dt, rf]"
   ]
  },
  {
   "cell_type": "code",
   "execution_count": 59,
   "id": "a26e61d3",
   "metadata": {},
   "outputs": [],
   "source": [
    "def get_pred_model(model, X_test):\n",
    "    y_pred = model.predict(X_test)\n",
    "    return y_pred"
   ]
  },
  {
   "cell_type": "code",
   "execution_count": 60,
   "id": "adf0728d",
   "metadata": {},
   "outputs": [],
   "source": [
    "def eval_model(y_test, y_pred):\n",
    "    return mean_squared_error(y_test,y_pred)"
   ]
  },
  {
   "cell_type": "markdown",
   "id": "86d2d267",
   "metadata": {},
   "source": [
    "### Appart"
   ]
  },
  {
   "cell_type": "code",
   "execution_count": 103,
   "id": "686e17c8",
   "metadata": {},
   "outputs": [],
   "source": [
    "models_metrics_appart = {}\n"
   ]
  },
  {
   "cell_type": "code",
   "execution_count": 104,
   "id": "646a1103",
   "metadata": {},
   "outputs": [
    {
     "name": "stderr",
     "output_type": "stream",
     "text": [
      "c:\\Users\\User\\Desktop\\fast-api-ml-immobilier-project\\venv\\lib\\site-packages\\sklearn\\base.py:1363: DataConversionWarning: A column-vector y was passed when a 1d array was expected. Please change the shape of y to (n_samples,), for example using ravel().\n",
      "  return fit_method(estimator, *args, **kwargs)\n"
     ]
    },
    {
     "data": {
      "text/plain": [
       "[0.8669959900088646, 0.4514233068723569, 0.24744437956950344]"
      ]
     },
     "execution_count": 104,
     "metadata": {},
     "output_type": "execute_result"
    }
   ],
   "source": [
    "pred_a = []\n",
    "mse_a = []\n",
    "\n",
    "for model in models:\n",
    "    model.fit(Xa_train_scaled,ya_train_scaled)\n",
    "    pred = get_pred_model(model,Xa_test_scaled)\n",
    "    pred_a.append(pred)\n",
    "    mse = eval_model(ya_test_scaled, pred)\n",
    "    mse_a.append(mse)\n",
    "    name_model = model.__class__.__name__\n",
    "    models_metrics_appart[name_model] = (model,mse)\n",
    "\n",
    "mse_a"
   ]
  },
  {
   "cell_type": "code",
   "execution_count": 105,
   "id": "7cce331d",
   "metadata": {},
   "outputs": [
    {
     "data": {
      "text/plain": [
       "{'LinearRegression': (LinearRegression(), 0.8669959900088646),\n",
       " 'DecisionTreeRegressor': (DecisionTreeRegressor(), 0.4514233068723569),\n",
       " 'RandomForestRegressor': (RandomForestRegressor(), 0.24744437956950344)}"
      ]
     },
     "execution_count": 105,
     "metadata": {},
     "output_type": "execute_result"
    }
   ],
   "source": [
    "models_metrics_appart"
   ]
  },
  {
   "cell_type": "markdown",
   "id": "987ef7d1",
   "metadata": {},
   "source": [
    "### Maison"
   ]
  },
  {
   "cell_type": "code",
   "execution_count": 106,
   "id": "6658890c",
   "metadata": {},
   "outputs": [],
   "source": [
    "models_metrics_maison = {}"
   ]
  },
  {
   "cell_type": "code",
   "execution_count": 107,
   "id": "baceacb4",
   "metadata": {},
   "outputs": [
    {
     "name": "stderr",
     "output_type": "stream",
     "text": [
      "c:\\Users\\User\\Desktop\\fast-api-ml-immobilier-project\\venv\\lib\\site-packages\\sklearn\\base.py:1363: DataConversionWarning: A column-vector y was passed when a 1d array was expected. Please change the shape of y to (n_samples,), for example using ravel().\n",
      "  return fit_method(estimator, *args, **kwargs)\n"
     ]
    },
    {
     "data": {
      "text/plain": [
       "[0.8649826558371496, 2.1981290957599335, 1.222630348955114]"
      ]
     },
     "execution_count": 107,
     "metadata": {},
     "output_type": "execute_result"
    }
   ],
   "source": [
    "pred_m = []\n",
    "mse_m = []\n",
    "for model in models:\n",
    "    model.fit(Xm_train_scaled,ym_train_scaled)\n",
    "    pred = get_pred_model(model,Xm_test_scaled)\n",
    "    pred_m.append(pred)\n",
    "    mse = eval_model(ym_test_scaled, pred)\n",
    "    mse_m.append(mse)\n",
    "    name_model = model.__class__.__name__\n",
    "    models_metrics_maison[name_model] = (model,mse)\n",
    "\n",
    "mse_m\n"
   ]
  },
  {
   "cell_type": "code",
   "execution_count": 108,
   "id": "8c78e368",
   "metadata": {},
   "outputs": [
    {
     "data": {
      "text/plain": [
       "{'LinearRegression': (LinearRegression(), 0.8649826558371496),\n",
       " 'DecisionTreeRegressor': (DecisionTreeRegressor(), 2.1981290957599335),\n",
       " 'RandomForestRegressor': (RandomForestRegressor(), 1.222630348955114)}"
      ]
     },
     "execution_count": 108,
     "metadata": {},
     "output_type": "execute_result"
    }
   ],
   "source": [
    "models_metrics_maison\n"
   ]
  },
  {
   "cell_type": "markdown",
   "id": "57458641",
   "metadata": {},
   "source": [
    "## 9. GridSearchCV"
   ]
  },
  {
   "cell_type": "code",
   "execution_count": 67,
   "id": "1a33bfb0",
   "metadata": {},
   "outputs": [],
   "source": [
    "from sklearn.model_selection import GridSearchCV"
   ]
  },
  {
   "cell_type": "markdown",
   "id": "8b1f8d97",
   "metadata": {},
   "source": [
    "### Appart"
   ]
  },
  {
   "cell_type": "code",
   "execution_count": 109,
   "id": "9feb8538",
   "metadata": {},
   "outputs": [
    {
     "name": "stderr",
     "output_type": "stream",
     "text": [
      "c:\\Users\\User\\Desktop\\fast-api-ml-immobilier-project\\venv\\lib\\site-packages\\sklearn\\base.py:1363: DataConversionWarning: A column-vector y was passed when a 1d array was expected. Please change the shape of y to (n_samples,), for example using ravel().\n",
      "  return fit_method(estimator, *args, **kwargs)\n"
     ]
    }
   ],
   "source": [
    "# Optimiser Decision Tree avec GridSearchCV\n",
    "dt_params = {\n",
    "    'max_depth': [5, 10, 20, None],\n",
    "    'min_samples_split': [2, 5, 10]\n",
    "}\n",
    "grid_dt = GridSearchCV(DecisionTreeRegressor(random_state=42), dt_params, cv=5, scoring='neg_mean_squared_error', n_jobs=-1)\n",
    "grid_dt.fit(Xa_train_scaled, ya_train_scaled)\n",
    "best_dt = grid_dt.best_estimator_\n",
    "\n",
    "##\"Decision Tree Optimisé\", \n",
    "mse = eval_model(ya_test_scaled, best_dt.predict(Xa_test_scaled))\n",
    "\n",
    "\n",
    "name_model = best_dt.__class__.__name__\n",
    "name_model += \"Optimized\"\n",
    "models_metrics_appart[name_model] = (best_dt,mse)\n",
    "\n",
    "\n",
    "# Optimiser Random Forest avec GridSearchCV\n",
    "rf_params = {\n",
    "    'n_estimators': [50, 100],\n",
    "    'max_depth': [10, 20, None],\n",
    "    'min_samples_split': [2, 5]\n",
    "}\n",
    "grid_rf = GridSearchCV(RandomForestRegressor(random_state=42), rf_params, cv=5, scoring='neg_mean_squared_error', n_jobs=-1)\n",
    "grid_rf.fit(Xa_train_scaled, ya_train_scaled)\n",
    "best_rf = grid_rf.best_estimator_\n",
    "\n",
    "##\"Random Forest Optimisé\",\n",
    "\n",
    "mse = eval_model(ya_test_scaled, best_rf.predict(Xa_test_scaled))\n",
    "\n",
    "name_model = best_rf.__class__.__name__\n",
    "name_model += \"Optimized\"\n",
    "models_metrics_appart[name_model] = (best_rf,mse)\n"
   ]
  },
  {
   "cell_type": "code",
   "execution_count": 110,
   "id": "fdca1f95",
   "metadata": {},
   "outputs": [
    {
     "data": {
      "text/plain": [
       "{'LinearRegression': (LinearRegression(), 0.8669959900088646),\n",
       " 'DecisionTreeRegressor': (DecisionTreeRegressor(), 0.4514233068723569),\n",
       " 'RandomForestRegressor': (RandomForestRegressor(), 0.24744437956950344),\n",
       " 'DecisionTreeRegressorOptimized': (DecisionTreeRegressor(max_depth=5, min_samples_split=10, random_state=42),\n",
       "  0.542259927589573),\n",
       " 'RandomForestRegressorOptimized': (RandomForestRegressor(max_depth=10, random_state=42),\n",
       "  0.21725535527204604)}"
      ]
     },
     "execution_count": 110,
     "metadata": {},
     "output_type": "execute_result"
    }
   ],
   "source": [
    "models_metrics_appart"
   ]
  },
  {
   "cell_type": "markdown",
   "id": "6fad3bd1",
   "metadata": {},
   "source": [
    "### Maison"
   ]
  },
  {
   "cell_type": "code",
   "execution_count": 111,
   "id": "857ca33e",
   "metadata": {},
   "outputs": [
    {
     "name": "stderr",
     "output_type": "stream",
     "text": [
      "c:\\Users\\User\\Desktop\\fast-api-ml-immobilier-project\\venv\\lib\\site-packages\\sklearn\\base.py:1363: DataConversionWarning: A column-vector y was passed when a 1d array was expected. Please change the shape of y to (n_samples,), for example using ravel().\n",
      "  return fit_method(estimator, *args, **kwargs)\n"
     ]
    }
   ],
   "source": [
    "# Optimiser Decision Tree avec GridSearchCV\n",
    "dt_params = {\n",
    "    'max_depth': [5, 10, 20, None],\n",
    "    'min_samples_split': [2, 5, 10]\n",
    "}\n",
    "grid_dt = GridSearchCV(DecisionTreeRegressor(random_state=42), dt_params, cv=5, scoring='neg_mean_squared_error', n_jobs=-1)\n",
    "grid_dt.fit(Xm_train_scaled, ym_train_scaled)\n",
    "best_dt = grid_dt.best_estimator_\n",
    "\n",
    "##\"Decision Tree Optimisé\", \n",
    "mse = eval_model(ym_test_scaled, best_dt.predict(Xm_test_scaled))\n",
    "\n",
    "\n",
    "name_model = best_dt.__class__.__name__\n",
    "name_model += \"Optimized\"\n",
    "models_metrics_maison[name_model] = (best_dt,mse)\n",
    "\n",
    "\n",
    "# Optimiser Random Forest avec GridSearchCV\n",
    "rf_params = {\n",
    "    'n_estimators': [50, 100],\n",
    "    'max_depth': [10, 20, None],\n",
    "    'min_samples_split': [2, 5]\n",
    "}\n",
    "grid_rf = GridSearchCV(RandomForestRegressor(random_state=42), rf_params, cv=5, scoring='neg_mean_squared_error', n_jobs=-1)\n",
    "grid_rf.fit(Xm_train_scaled, ym_train_scaled)\n",
    "best_rf = grid_rf.best_estimator_\n",
    "\n",
    "##\"Random Forest Optimisé\",\n",
    "\n",
    "mse = eval_model(ym_test_scaled, best_rf.predict(Xm_test_scaled))\n",
    "\n",
    "name_model = best_rf.__class__.__name__\n",
    "name_model += \"Optimized\"\n",
    "models_metrics_maison[name_model] = (best_rf,mse)\n"
   ]
  },
  {
   "cell_type": "code",
   "execution_count": 71,
   "id": "03ede610",
   "metadata": {},
   "outputs": [
    {
     "data": {
      "text/plain": [
       "{'LinearRegression': (LinearRegression(), 0.8649826558371496),\n",
       " 'DecisionTreeRegressor': (DecisionTreeRegressor(), 2.383065941589281),\n",
       " 'RandomForestRegressor': (RandomForestRegressor(), 1.2073148204703763),\n",
       " 'DecisionTreeRegressorOptimized': (DecisionTreeRegressor(max_depth=5, min_samples_split=10, random_state=42),\n",
       "  1.128891885397799),\n",
       " 'RandomForestRegressorOptimized': (RandomForestRegressor(max_depth=10, min_samples_split=5, random_state=42),\n",
       "  1.0350889352792056)}"
      ]
     },
     "execution_count": 71,
     "metadata": {},
     "output_type": "execute_result"
    }
   ],
   "source": [
    "models_metrics_maison"
   ]
  },
  {
   "cell_type": "markdown",
   "id": "7c80b1e7",
   "metadata": {},
   "source": [
    "## 10. XGBRegressor"
   ]
  },
  {
   "cell_type": "code",
   "execution_count": 72,
   "id": "94e36d3c",
   "metadata": {},
   "outputs": [],
   "source": [
    "import xgboost as xgb"
   ]
  },
  {
   "cell_type": "code",
   "execution_count": 73,
   "id": "aa2eb19c",
   "metadata": {},
   "outputs": [],
   "source": [
    "# extract categorical features\n",
    "#cat_features = X.select_dtypes(exclude = np.number).colimns.tolist()\n",
    "#for col in cat_features:\n",
    "#   X[col] = X[col].astype('category')"
   ]
  },
  {
   "cell_type": "markdown",
   "id": "97c3fc43",
   "metadata": {},
   "source": [
    "### Appart"
   ]
  },
  {
   "cell_type": "code",
   "execution_count": 74,
   "id": "858c2fb1",
   "metadata": {},
   "outputs": [],
   "source": [
    "# Create matrices\n",
    "dm_train_a = xgb.DMatrix(Xa_train_scaled,ya_train_scaled)\n",
    "dm_test_a = xgb.DMatrix(Xa_test_scaled,ya_test_scaled)"
   ]
  },
  {
   "cell_type": "code",
   "execution_count": 75,
   "id": "daa964fa",
   "metadata": {},
   "outputs": [
    {
     "name": "stdout",
     "output_type": "stream",
     "text": [
      "[0]\tvalidation-rmse:0.69666\ttrain-rmse:0.78166\n",
      "[10]\tvalidation-rmse:0.53730\ttrain-rmse:0.09250\n",
      "[20]\tvalidation-rmse:0.56062\ttrain-rmse:0.02082\n",
      "[30]\tvalidation-rmse:0.56253\ttrain-rmse:0.00577\n",
      "[40]\tvalidation-rmse:0.56315\ttrain-rmse:0.00153\n",
      "[50]\tvalidation-rmse:0.56317\ttrain-rmse:0.00110\n",
      "[60]\tvalidation-rmse:0.56317\ttrain-rmse:0.00110\n",
      "[63]\tvalidation-rmse:0.56317\ttrain-rmse:0.00110\n"
     ]
    }
   ],
   "source": [
    "# Define hyperparameters\n",
    "params = {\"objective\": \"reg:squarederror\",\n",
    "          'eval_metric': 'rmse',\n",
    "          \"tree_method\": \"hist\"}\n",
    "\n",
    "n = 100\n",
    "evals = [(dm_test_a, \"validation\"), (dm_train_a, \"train\")]\n",
    "\n",
    "evals_result = {}\n",
    "\n",
    "model = xgb.train(\n",
    "   params=params,\n",
    "   dtrain=dm_train_a,\n",
    "   num_boost_round=n,\n",
    "   evals=evals,\n",
    "   verbose_eval=10,\n",
    "   # Activate early stopping\n",
    "   early_stopping_rounds=10,\n",
    "   evals_result=evals_result  # ← clé pour récupérer les métriques\n",
    ")\n",
    "\n"
   ]
  },
  {
   "cell_type": "code",
   "execution_count": 76,
   "id": "e1c0410a",
   "metadata": {},
   "outputs": [
    {
     "name": "stdout",
     "output_type": "stream",
     "text": [
      "Best RMSE: 0.5631716038348863\n",
      "Best MSE: 0.3171622553659581\n"
     ]
    }
   ],
   "source": [
    "rmse_list = evals_result[\"validation\"][\"rmse\"]\n",
    "best_rmse = rmse_list[model.best_iteration]\n",
    "best_mse = best_rmse ** 2\n",
    "print(f\"Best RMSE: {best_rmse}\")\n",
    "print(f\"Best MSE: {best_mse}\")"
   ]
  },
  {
   "cell_type": "code",
   "execution_count": 77,
   "id": "56de732f",
   "metadata": {},
   "outputs": [],
   "source": [
    "ypred= model.predict(dm_test_a)\n",
    "mse=mean_squared_error(ya_test_scaled,ypred)"
   ]
  },
  {
   "cell_type": "code",
   "execution_count": 78,
   "id": "9500543b",
   "metadata": {},
   "outputs": [
    {
     "data": {
      "text/plain": [
       "0.3171622607458672"
      ]
     },
     "execution_count": 78,
     "metadata": {},
     "output_type": "execute_result"
    }
   ],
   "source": [
    "mse"
   ]
  },
  {
   "cell_type": "code",
   "execution_count": 79,
   "id": "eb3debcf",
   "metadata": {},
   "outputs": [
    {
     "data": {
      "text/plain": [
       "'Booster'"
      ]
     },
     "execution_count": 79,
     "metadata": {},
     "output_type": "execute_result"
    }
   ],
   "source": [
    "model_name = model.__class__.__name__\n",
    "model_name"
   ]
  },
  {
   "cell_type": "markdown",
   "id": "1b834167",
   "metadata": {},
   "source": [
    "#### en utilisant l’API scikit-learn de XGBoost"
   ]
  },
  {
   "cell_type": "code",
   "execution_count": 112,
   "id": "7aaa2b14",
   "metadata": {},
   "outputs": [
    {
     "name": "stdout",
     "output_type": "stream",
     "text": [
      "[0]\tvalidation_0-rmse:0.69666\n",
      "[1]\tvalidation_0-rmse:0.55976\n",
      "[2]\tvalidation_0-rmse:0.50477\n",
      "[3]\tvalidation_0-rmse:0.48104\n",
      "[4]\tvalidation_0-rmse:0.48837\n",
      "[5]\tvalidation_0-rmse:0.45678\n",
      "[6]\tvalidation_0-rmse:0.48026\n",
      "[7]\tvalidation_0-rmse:0.50112\n",
      "[8]\tvalidation_0-rmse:0.51401\n",
      "[9]\tvalidation_0-rmse:0.52694\n",
      "[10]\tvalidation_0-rmse:0.53730\n",
      "[11]\tvalidation_0-rmse:0.54620\n",
      "[12]\tvalidation_0-rmse:0.54884\n",
      "[13]\tvalidation_0-rmse:0.55195\n",
      "[14]\tvalidation_0-rmse:0.55370\n",
      "[15]\tvalidation_0-rmse:0.55467\n"
     ]
    },
    {
     "data": {
      "text/plain": [
       "0.20864460313994515"
      ]
     },
     "execution_count": 112,
     "metadata": {},
     "output_type": "execute_result"
    }
   ],
   "source": [
    "from xgboost import XGBRegressor\n",
    "\n",
    "model_regressor = XGBRegressor(\n",
    "    objective='reg:squarederror',\n",
    "    eval_metric='rmse',\n",
    "    tree_method='hist',\n",
    "    n_estimators=100, early_stopping_rounds=10\n",
    ")\n",
    "\n",
    "\n",
    "model_regressor.fit(Xa_train_scaled, ya_train_scaled, eval_set=[(Xa_test_scaled,ya_test_scaled)])\n",
    "ypred_regressor = model_regressor.predict(Xa_test_scaled)\n",
    "mse_regressor = mean_squared_error(ya_test_scaled,ypred_regressor)\n",
    "mse_regressor"
   ]
  },
  {
   "cell_type": "code",
   "execution_count": 113,
   "id": "2ddd3fec",
   "metadata": {},
   "outputs": [
    {
     "data": {
      "text/plain": [
       "'XGBRegressor'"
      ]
     },
     "execution_count": 113,
     "metadata": {},
     "output_type": "execute_result"
    }
   ],
   "source": [
    "model_name = model_regressor.__class__.__name__\n",
    "model_name"
   ]
  },
  {
   "cell_type": "code",
   "execution_count": 114,
   "id": "8e984aa2",
   "metadata": {},
   "outputs": [
    {
     "data": {
      "text/plain": [
       "{'LinearRegression': (LinearRegression(), 0.8669959900088646),\n",
       " 'DecisionTreeRegressor': (DecisionTreeRegressor(), 0.4514233068723569),\n",
       " 'RandomForestRegressor': (RandomForestRegressor(), 0.24744437956950344),\n",
       " 'DecisionTreeRegressorOptimized': (DecisionTreeRegressor(max_depth=5, min_samples_split=10, random_state=42),\n",
       "  0.542259927589573),\n",
       " 'RandomForestRegressorOptimized': (RandomForestRegressor(max_depth=10, random_state=42),\n",
       "  0.21725535527204604)}"
      ]
     },
     "execution_count": 114,
     "metadata": {},
     "output_type": "execute_result"
    }
   ],
   "source": [
    "models_metrics_appart"
   ]
  },
  {
   "cell_type": "code",
   "execution_count": 115,
   "id": "b184829d",
   "metadata": {},
   "outputs": [],
   "source": [
    "models_metrics_appart[model_name]=(model_regressor,mse_regressor)"
   ]
  },
  {
   "cell_type": "code",
   "execution_count": 116,
   "id": "04524206",
   "metadata": {},
   "outputs": [
    {
     "data": {
      "text/plain": [
       "{'LinearRegression': (LinearRegression(), 0.8669959900088646),\n",
       " 'DecisionTreeRegressor': (DecisionTreeRegressor(), 0.4514233068723569),\n",
       " 'RandomForestRegressor': (RandomForestRegressor(), 0.24744437956950344),\n",
       " 'DecisionTreeRegressorOptimized': (DecisionTreeRegressor(max_depth=5, min_samples_split=10, random_state=42),\n",
       "  0.542259927589573),\n",
       " 'RandomForestRegressorOptimized': (RandomForestRegressor(max_depth=10, random_state=42),\n",
       "  0.21725535527204604),\n",
       " 'XGBRegressor': (XGBRegressor(base_score=None, booster=None, callbacks=None,\n",
       "               colsample_bylevel=None, colsample_bynode=None,\n",
       "               colsample_bytree=None, device=None, early_stopping_rounds=10,\n",
       "               enable_categorical=False, eval_metric='rmse', feature_types=None,\n",
       "               feature_weights=None, gamma=None, grow_policy=None,\n",
       "               importance_type=None, interaction_constraints=None,\n",
       "               learning_rate=None, max_bin=None, max_cat_threshold=None,\n",
       "               max_cat_to_onehot=None, max_delta_step=None, max_depth=None,\n",
       "               max_leaves=None, min_child_weight=None, missing=nan,\n",
       "               monotone_constraints=None, multi_strategy=None, n_estimators=100,\n",
       "               n_jobs=None, num_parallel_tree=None, ...),\n",
       "  0.20864460313994515)}"
      ]
     },
     "execution_count": 116,
     "metadata": {},
     "output_type": "execute_result"
    }
   ],
   "source": [
    "models_metrics_appart"
   ]
  },
  {
   "cell_type": "markdown",
   "id": "09b4bf9a",
   "metadata": {},
   "source": [
    "### Maison "
   ]
  },
  {
   "cell_type": "code",
   "execution_count": 117,
   "id": "20a17833",
   "metadata": {},
   "outputs": [
    {
     "name": "stdout",
     "output_type": "stream",
     "text": [
      "[0]\tvalidation_0-rmse:0.92364\n",
      "[1]\tvalidation_0-rmse:0.93089\n",
      "[2]\tvalidation_0-rmse:0.95618\n",
      "[3]\tvalidation_0-rmse:0.98909\n",
      "[4]\tvalidation_0-rmse:0.99327\n",
      "[5]\tvalidation_0-rmse:1.00731\n",
      "[6]\tvalidation_0-rmse:1.00544\n",
      "[7]\tvalidation_0-rmse:1.00875\n"
     ]
    },
    {
     "name": "stdout",
     "output_type": "stream",
     "text": [
      "[8]\tvalidation_0-rmse:1.01964\n",
      "[9]\tvalidation_0-rmse:1.02179\n"
     ]
    },
    {
     "data": {
      "text/plain": [
       "{'LinearRegression': (LinearRegression(), 0.8649826558371496),\n",
       " 'DecisionTreeRegressor': (DecisionTreeRegressor(), 2.1981290957599335),\n",
       " 'RandomForestRegressor': (RandomForestRegressor(), 1.222630348955114),\n",
       " 'DecisionTreeRegressorOptimized': (DecisionTreeRegressor(max_depth=5, min_samples_split=10, random_state=42),\n",
       "  1.128891885397799),\n",
       " 'RandomForestRegressorOptimized': (RandomForestRegressor(max_depth=10, min_samples_split=5, random_state=42),\n",
       "  1.0350889352792056),\n",
       " 'XGBRegressor': (XGBRegressor(base_score=None, booster=None, callbacks=None,\n",
       "               colsample_bylevel=None, colsample_bynode=None,\n",
       "               colsample_bytree=None, device=None, early_stopping_rounds=10,\n",
       "               enable_categorical=False, eval_metric='rmse', feature_types=None,\n",
       "               feature_weights=None, gamma=None, grow_policy=None,\n",
       "               importance_type=None, interaction_constraints=None,\n",
       "               learning_rate=None, max_bin=None, max_cat_threshold=None,\n",
       "               max_cat_to_onehot=None, max_delta_step=None, max_depth=None,\n",
       "               max_leaves=None, min_child_weight=None, missing=nan,\n",
       "               monotone_constraints=None, multi_strategy=None, n_estimators=100,\n",
       "               n_jobs=None, num_parallel_tree=None, ...),\n",
       "  0.8531133925429333)}"
      ]
     },
     "execution_count": 117,
     "metadata": {},
     "output_type": "execute_result"
    }
   ],
   "source": [
    "from xgboost import XGBRegressor\n",
    "\n",
    "model_regressor = XGBRegressor(\n",
    "    objective='reg:squarederror',\n",
    "    eval_metric='rmse',\n",
    "    tree_method='hist',\n",
    "    n_estimators=100, early_stopping_rounds=10\n",
    ")\n",
    "\n",
    "\n",
    "model_regressor.fit(Xm_train_scaled, ym_train_scaled, eval_set=[(Xm_test_scaled,ym_test_scaled)])\n",
    "ypred_regressor = model_regressor.predict(Xm_test_scaled)\n",
    "mse_regressor = mean_squared_error(ym_test_scaled,ypred_regressor)\n",
    "mse_regressor\n",
    "model_name = model_regressor.__class__.__name__\n",
    "model_name\n",
    "models_metrics_maison[model_name]=(model_regressor,mse_regressor)\n",
    "models_metrics_maison"
   ]
  },
  {
   "cell_type": "code",
   "execution_count": 118,
   "id": "41cd567a",
   "metadata": {},
   "outputs": [
    {
     "name": "stdout",
     "output_type": "stream",
     "text": [
      "<class 'float'> 1\n",
      "LinearRegression\n",
      "<class 'float'> 0.8669959900088646\n",
      "DecisionTreeRegressor\n",
      "<class 'float'> 0.4514233068723569\n",
      "RandomForestRegressor\n",
      "<class 'float'> 0.24744437956950344\n",
      "<class 'float'> 0.24744437956950344\n",
      "RandomForestRegressorOptimized\n",
      "<class 'float'> 0.21725535527204604\n",
      "XGBRegressor\n"
     ]
    },
    {
     "data": {
      "image/png": "[encoded data removed]",
      "text/plain": [
       "<Figure size 1000x1000 with 1 Axes>"
      ]
     },
     "metadata": {},
     "output_type": "display_data"
    }
   ],
   "source": [
    "min_mse = 1\n",
    "best_model = \"\"\n",
    "mse_list=[]\n",
    "for key in models_metrics_appart.keys():\n",
    "    print(type(models_metrics_appart[key][1]), min_mse)\n",
    "    mse_list.append(models_metrics_appart[key][1])\n",
    "    msek = models_metrics_appart[key][1]\n",
    "    if msek < min_mse:\n",
    "        print(key)\n",
    "        min_mse = models_metrics_appart[key][1]\n",
    "        best_model_a = key\n",
    "\n",
    "\n",
    "labels = list(models_metrics_appart.keys())\n",
    "x = range(len(labels))  # positions numériques\n",
    "\n",
    "plt.figure(figsize=(10, 10))\n",
    "bars = plt.bar(x, mse_list, color='skyblue')\n",
    "\n",
    "plt.title(\"Comparaison des MSE par modèle (dataset dfAppart)\")\n",
    "\n",
    "\n",
    "plt.ylabel(\"MSE\")\n",
    "plt.xlabel(\"Modèles\")\n",
    "\n",
    "plt.xticks(x, labels, rotation=45, ha='right')  \n",
    "plt.grid(axis='y', linestyle='--', alpha=0.5)\n",
    "for bar in bars:\n",
    "    height = bar.get_height()\n",
    "    plt.text(\n",
    "        bar.get_x() + bar.get_width() / 2,  # X position (center of bar)\n",
    "        height ,                        # Y position (just above bar)\n",
    "        f'{height:.2f}',                     # Format to 2 decimal places\n",
    "        ha='center'\n",
    "    )\n",
    "plt.tight_layout()\n",
    "plt.show()"
   ]
  },
  {
   "cell_type": "code",
   "execution_count": 119,
   "id": "36d7702b",
   "metadata": {},
   "outputs": [
    {
     "name": "stdout",
     "output_type": "stream",
     "text": [
      "<class 'float'> 1\n",
      "LinearRegression\n",
      "<class 'float'> 0.8649826558371496\n",
      "<class 'float'> 0.8649826558371496\n",
      "<class 'float'> 0.8649826558371496\n",
      "<class 'float'> 0.8649826558371496\n",
      "<class 'float'> 0.8649826558371496\n",
      "XGBRegressor\n"
     ]
    }
   ],
   "source": [
    "min_mse = 1\n",
    "best_model = \"\"\n",
    "mse_list=[]\n",
    "for key in models_metrics_maison.keys():\n",
    "    print(type(models_metrics_maison[key][1]), min_mse)\n",
    "    mse_list.append(models_metrics_maison[key][1])\n",
    "    msek = models_metrics_maison[key][1]\n",
    "    if msek < min_mse:\n",
    "        print(key)\n",
    "        min_mse = models_metrics_maison[key][1]\n",
    "        best_model_m = key "
   ]
  },
  {
   "cell_type": "code",
   "execution_count": 120,
   "id": "8668301f",
   "metadata": {},
   "outputs": [
    {
     "data": {
      "image/png": "[encoded data removed]",
      "text/plain": [
       "<Figure size 800x500 with 1 Axes>"
      ]
     },
     "metadata": {},
     "output_type": "display_data"
    }
   ],
   "source": [
    "\n",
    "labels = list(models_metrics_maison.keys())\n",
    "x = range(len(labels))  # positions numériques\n",
    "\n",
    "plt.figure(figsize=(8, 5))\n",
    "bars = plt.bar(x, mse_list, color='skyblue')\n",
    "plt.title(\"Comparaison des MSE par modèle (dataset dfMaison)\")\n",
    "for bar in bars:\n",
    "    height = bar.get_height()\n",
    "    plt.text(\n",
    "        bar.get_x() + bar.get_width() / 2,  # X position (center of bar)\n",
    "        height ,                        # Y position (just above bar)\n",
    "        f'{height:.2f}',                     # Format to 2 decimal places\n",
    "        ha='center'\n",
    "    )\n",
    "plt.ylabel(\"MSE\")\n",
    "plt.xlabel(\"Modèles\")\n",
    "plt.xticks(x, labels, rotation=45, ha='right')  \n",
    "plt.grid(axis='y', linestyle='--', alpha=0.5)\n",
    "plt.tight_layout()\n",
    "plt.show()"
   ]
  },
  {
   "cell_type": "code",
   "execution_count": 121,
   "id": "e67dd84a",
   "metadata": {},
   "outputs": [
    {
     "data": {
      "text/plain": [
       "'XGBRegressor'"
      ]
     },
     "execution_count": 121,
     "metadata": {},
     "output_type": "execute_result"
    }
   ],
   "source": [
    "best_model_a"
   ]
  },
  {
   "cell_type": "code",
   "execution_count": 122,
   "id": "4b7cee10",
   "metadata": {},
   "outputs": [
    {
     "data": {
      "text/plain": [
       "'XGBRegressor'"
      ]
     },
     "execution_count": 122,
     "metadata": {},
     "output_type": "execute_result"
    }
   ],
   "source": [
    "\n",
    "best_model_m"
   ]
  },
  {
   "cell_type": "code",
   "execution_count": 123,
   "id": "23ec6abe",
   "metadata": {},
   "outputs": [
    {
     "data": {
      "text/plain": [
       "(39, 4)"
      ]
     },
     "execution_count": 123,
     "metadata": {},
     "output_type": "execute_result"
    }
   ],
   "source": [
    "Xa_train_scaled.shape"
   ]
  },
  {
   "cell_type": "code",
   "execution_count": 124,
   "id": "3679445b",
   "metadata": {},
   "outputs": [
    {
     "data": {
      "text/plain": [
       "(260, 4)"
      ]
     },
     "execution_count": 124,
     "metadata": {},
     "output_type": "execute_result"
    }
   ],
   "source": [
    "Xm_train_scaled.shape"
   ]
  },
  {
   "cell_type": "markdown",
   "id": "1fca90f9",
   "metadata": {},
   "source": [
    "# Save models"
   ]
  },
  {
   "cell_type": "code",
   "execution_count": 93,
   "id": "d5256bbf",
   "metadata": {},
   "outputs": [],
   "source": [
    "import joblib"
   ]
  },
  {
   "cell_type": "code",
   "execution_count": 125,
   "id": "642c14f9",
   "metadata": {},
   "outputs": [
    {
     "data": {
      "text/plain": [
       "['../models/model_lille.pkl']"
      ]
     },
     "execution_count": 125,
     "metadata": {},
     "output_type": "execute_result"
    }
   ],
   "source": [
    "# Save model and scaler\n",
    "# Créer le dossier s'il n'existe pas\n",
    "os.makedirs('../models', exist_ok=True)\n",
    "joblib.dump({'model_a': models_metrics_appart[best_model_a][0], \n",
    "             'scaler_Xa': ScalerXa, \n",
    "             'scaler_ya':Scalerya,\n",
    "             'model_m': models_metrics_maison[best_model_m][0], \n",
    "             'scaler_Xm': ScalerXm, \n",
    "             'scaler_ym':Scalerym}, \n",
    "            '../models/best_model_lille.pkl')"
   ]
  },
  {
   "cell_type": "code",
   "execution_count": null,
   "id": "61a92a10",
   "metadata": {},
   "outputs": [],
   "source": [
    "dict_model_appart={}\n",
    "for model_name in models_metrics_appart:\n",
    "    dict_model_appart[model_name] = models_metrics_appart[model_name][0]\n",
    "    "
   ]
  },
  {
   "cell_type": "code",
   "execution_count": 130,
   "id": "eef24a3d",
   "metadata": {},
   "outputs": [
    {
     "data": {
      "text/plain": [
       "{'LinearRegression': LinearRegression(),\n",
       " 'DecisionTreeRegressor': DecisionTreeRegressor(),\n",
       " 'RandomForestRegressor': RandomForestRegressor(),\n",
       " 'DecisionTreeRegressorOptimized': DecisionTreeRegressor(max_depth=5, min_samples_split=10, random_state=42),\n",
       " 'RandomForestRegressorOptimized': RandomForestRegressor(max_depth=10, random_state=42),\n",
       " 'XGBRegressor': XGBRegressor(base_score=None, booster=None, callbacks=None,\n",
       "              colsample_bylevel=None, colsample_bynode=None,\n",
       "              colsample_bytree=None, device=None, early_stopping_rounds=10,\n",
       "              enable_categorical=False, eval_metric='rmse', feature_types=None,\n",
       "              feature_weights=None, gamma=None, grow_policy=None,\n",
       "              importance_type=None, interaction_constraints=None,\n",
       "              learning_rate=None, max_bin=None, max_cat_threshold=None,\n",
       "              max_cat_to_onehot=None, max_delta_step=None, max_depth=None,\n",
       "              max_leaves=None, min_child_weight=None, missing=nan,\n",
       "              monotone_constraints=None, multi_strategy=None, n_estimators=100,\n",
       "              n_jobs=None, num_parallel_tree=None, ...)}"
      ]
     },
     "execution_count": 130,
     "metadata": {},
     "output_type": "execute_result"
    }
   ],
   "source": [
    "dict_model_appart"
   ]
  },
  {
   "cell_type": "code",
   "execution_count": 131,
   "id": "ab2da94c",
   "metadata": {},
   "outputs": [
    {
     "data": {
      "text/plain": [
       "['../models/models_appart_lille.pkl']"
      ]
     },
     "execution_count": 131,
     "metadata": {},
     "output_type": "execute_result"
    }
   ],
   "source": [
    "joblib.dump(dict_model_appart,'../models/models_appart_lille.pkl')"
   ]
  },
  {
   "cell_type": "code",
   "execution_count": 132,
   "id": "0546f73d",
   "metadata": {},
   "outputs": [],
   "source": [
    "dict_model_maison={}\n",
    "for model_name in models_metrics_maison:\n",
    "    dict_model_maison[model_name] = models_metrics_maison[model_name][0]"
   ]
  },
  {
   "cell_type": "code",
   "execution_count": 133,
   "id": "4326d37b",
   "metadata": {},
   "outputs": [
    {
     "data": {
      "text/plain": [
       "{'LinearRegression': LinearRegression(),\n",
       " 'DecisionTreeRegressor': DecisionTreeRegressor(),\n",
       " 'RandomForestRegressor': RandomForestRegressor(),\n",
       " 'DecisionTreeRegressorOptimized': DecisionTreeRegressor(max_depth=5, min_samples_split=10, random_state=42),\n",
       " 'RandomForestRegressorOptimized': RandomForestRegressor(max_depth=10, min_samples_split=5, random_state=42),\n",
       " 'XGBRegressor': XGBRegressor(base_score=None, booster=None, callbacks=None,\n",
       "              colsample_bylevel=None, colsample_bynode=None,\n",
       "              colsample_bytree=None, device=None, early_stopping_rounds=10,\n",
       "              enable_categorical=False, eval_metric='rmse', feature_types=None,\n",
       "              feature_weights=None, gamma=None, grow_policy=None,\n",
       "              importance_type=None, interaction_constraints=None,\n",
       "              learning_rate=None, max_bin=None, max_cat_threshold=None,\n",
       "              max_cat_to_onehot=None, max_delta_step=None, max_depth=None,\n",
       "              max_leaves=None, min_child_weight=None, missing=nan,\n",
       "              monotone_constraints=None, multi_strategy=None, n_estimators=100,\n",
       "              n_jobs=None, num_parallel_tree=None, ...)}"
      ]
     },
     "execution_count": 133,
     "metadata": {},
     "output_type": "execute_result"
    }
   ],
   "source": [
    "dict_model_maison"
   ]
  },
  {
   "cell_type": "code",
   "execution_count": 134,
   "id": "d43f7e90",
   "metadata": {},
   "outputs": [
    {
     "data": {
      "text/plain": [
       "['../models/models_maison_lille.pkl']"
      ]
     },
     "execution_count": 134,
     "metadata": {},
     "output_type": "execute_result"
    }
   ],
   "source": [
    "joblib.dump(dict_model_maison, '../models/models_maison_lille.pkl')"
   ]
  }
 ],
 "metadata": {
  "kernelspec": {
   "display_name": "venv",
   "language": "python",
   "name": "python3"
  },
  "language_info": {
   "codemirror_mode": {
    "name": "ipython",
    "version": 3
   },
   "file_extension": ".py",
   "mimetype": "text/x-python",
   "name": "python",
   "nbconvert_exporter": "python",
   "pygments_lexer": "ipython3",
   "version": "3.10.0"
  }
 },
 "nbformat": 4,
 "nbformat_minor": 5
}
