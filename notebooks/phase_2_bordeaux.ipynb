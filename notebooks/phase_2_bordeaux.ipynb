{
 "cells": [
  {
   "cell_type": "markdown",
   "id": "3c5767d9",
   "metadata": {},
   "source": [
    "# Phase 2 — Test de généralisation sur Bordeaux "
   ]
  },
  {
   "cell_type": "code",
   "execution_count": 1,
   "id": "283fc8d3",
   "metadata": {},
   "outputs": [],
   "source": [
    "import numpy as np\n",
    "import pandas as pd"
   ]
  },
  {
   "cell_type": "code",
   "execution_count": 2,
   "id": "a665b03a",
   "metadata": {},
   "outputs": [],
   "source": [
    "df_bordeaux = pd.read_csv(\"../data/bordeaux_2022.csv\")"
   ]
  },
  {
   "cell_type": "code",
   "execution_count": 3,
   "id": "c5af75ad",
   "metadata": {},
   "outputs": [
    {
     "name": "stdout",
     "output_type": "stream",
     "text": [
      "<class 'pandas.core.frame.DataFrame'>\n",
      "RangeIndex: 13200 entries, 0 to 13199\n",
      "Data columns (total 44 columns):\n",
      " #   Column                      Non-Null Count  Dtype  \n",
      "---  ------                      --------------  -----  \n",
      " 0   Identifiant de document     0 non-null      float64\n",
      " 1   Reference document          0 non-null      float64\n",
      " 2   1 Articles CGI              0 non-null      float64\n",
      " 3   2 Articles CGI              0 non-null      float64\n",
      " 4   3 Articles CGI              0 non-null      float64\n",
      " 5   4 Articles CGI              0 non-null      float64\n",
      " 6   5 Articles CGI              0 non-null      float64\n",
      " 7   No disposition              13200 non-null  int64  \n",
      " 8   Date mutation               13200 non-null  object \n",
      " 9   Nature mutation             13200 non-null  object \n",
      " 10  Valeur fonciere             13200 non-null  float64\n",
      " 11  No voie                     13155 non-null  float64\n",
      " 12  B/T/Q                       402 non-null    object \n",
      " 13  Type de voie                13198 non-null  object \n",
      " 14  Code voie                   13200 non-null  object \n",
      " 15  Voie                        13200 non-null  object \n",
      " 16  Code postal                 13200 non-null  float64\n",
      " 17  Commune                     13200 non-null  object \n",
      " 18  Code departement            13200 non-null  int64  \n",
      " 19  Code commune                13200 non-null  int64  \n",
      " 20  Prefixe de section          0 non-null      float64\n",
      " 21  Section                     13157 non-null  object \n",
      " 22  No plan                     13200 non-null  int64  \n",
      " 23  No Volume                   0 non-null      float64\n",
      " 24  1er lot                     9530 non-null   object \n",
      " 25  Surface Carrez du 1er lot   2000 non-null   object \n",
      " 26  2eme lot                    1659 non-null   float64\n",
      " 27  Surface Carrez du 2eme lot  336 non-null    object \n",
      " 28  3eme lot                    254 non-null    float64\n",
      " 29  Surface Carrez du 3eme lot  33 non-null     object \n",
      " 30  4eme lot                    104 non-null    float64\n",
      " 31  Surface Carrez du 4eme lot  13 non-null     object \n",
      " 32  5eme lot                    49 non-null     float64\n",
      " 33  Surface Carrez du 5eme lot  11 non-null     object \n",
      " 34  Nombre de lots              13200 non-null  int64  \n",
      " 35  Code type local             13200 non-null  float64\n",
      " 36  Type local                  13200 non-null  object \n",
      " 37  Identifiant local           0 non-null      float64\n",
      " 38  Surface reelle bati         13200 non-null  float64\n",
      " 39  Nombre pieces principales   13200 non-null  float64\n",
      " 40  Nature culture              3668 non-null   object \n",
      " 41  Nature culture speciale     15 non-null     object \n",
      " 42  Surface terrain             3668 non-null   float64\n",
      " 43  prix_m2                     13200 non-null  float64\n",
      "dtypes: float64(22), int64(5), object(17)\n",
      "memory usage: 4.4+ MB\n"
     ]
    }
   ],
   "source": [
    "df_bordeaux.info()"
   ]
  },
  {
   "cell_type": "code",
   "execution_count": 4,
   "id": "dd8298b9",
   "metadata": {},
   "outputs": [
    {
     "data": {
      "text/plain": [
       "Index(['Identifiant de document', 'Reference document', '1 Articles CGI',\n",
       "       '2 Articles CGI', '3 Articles CGI', '4 Articles CGI', '5 Articles CGI',\n",
       "       'No disposition', 'Date mutation', 'Nature mutation', 'Valeur fonciere',\n",
       "       'No voie', 'B/T/Q', 'Type de voie', 'Code voie', 'Voie', 'Code postal',\n",
       "       'Commune', 'Code departement', 'Code commune', 'Prefixe de section',\n",
       "       'Section', 'No plan', 'No Volume', '1er lot',\n",
       "       'Surface Carrez du 1er lot', '2eme lot', 'Surface Carrez du 2eme lot',\n",
       "       '3eme lot', 'Surface Carrez du 3eme lot', '4eme lot',\n",
       "       'Surface Carrez du 4eme lot', '5eme lot', 'Surface Carrez du 5eme lot',\n",
       "       'Nombre de lots', 'Code type local', 'Type local', 'Identifiant local',\n",
       "       'Surface reelle bati', 'Nombre pieces principales', 'Nature culture',\n",
       "       'Nature culture speciale', 'Surface terrain', 'prix_m2'],\n",
       "      dtype='object')"
      ]
     },
     "execution_count": 4,
     "metadata": {},
     "output_type": "execute_result"
    }
   ],
   "source": [
    "df_bordeaux.columns"
   ]
  },
  {
   "cell_type": "code",
   "execution_count": 5,
   "id": "6f95d94c",
   "metadata": {},
   "outputs": [
    {
     "name": "stderr",
     "output_type": "stream",
     "text": [
      "c:\\Users\\User\\Desktop\\fast-api-ml-immobilier-project\\venv\\lib\\site-packages\\pandas\\core\\nanops.py:1016: RuntimeWarning: invalid value encountered in subtract\n",
      "  sqr = _ensure_numeric((avg - values) ** 2)\n",
      "c:\\Users\\User\\Desktop\\fast-api-ml-immobilier-project\\venv\\lib\\site-packages\\numpy\\lib\\_function_base_impl.py:4653: RuntimeWarning: invalid value encountered in subtract\n",
      "  diff_b_a = subtract(b, a)\n"
     ]
    },
    {
     "data": {
      "text/html": [
       "<div>\n",
       "<style scoped>\n",
       "    .dataframe tbody tr th:only-of-type {\n",
       "        vertical-align: middle;\n",
       "    }\n",
       "\n",
       "    .dataframe tbody tr th {\n",
       "        vertical-align: top;\n",
       "    }\n",
       "\n",
       "    .dataframe thead th {\n",
       "        text-align: right;\n",
       "    }\n",
       "</style>\n",
       "<table border=\"1\" class=\"dataframe\">\n",
       "  <thead>\n",
       "    <tr style=\"text-align: right;\">\n",
       "      <th></th>\n",
       "      <th>Identifiant de document</th>\n",
       "      <th>Reference document</th>\n",
       "      <th>1 Articles CGI</th>\n",
       "      <th>2 Articles CGI</th>\n",
       "      <th>3 Articles CGI</th>\n",
       "      <th>4 Articles CGI</th>\n",
       "      <th>5 Articles CGI</th>\n",
       "      <th>No disposition</th>\n",
       "      <th>Valeur fonciere</th>\n",
       "      <th>No voie</th>\n",
       "      <th>...</th>\n",
       "      <th>3eme lot</th>\n",
       "      <th>4eme lot</th>\n",
       "      <th>5eme lot</th>\n",
       "      <th>Nombre de lots</th>\n",
       "      <th>Code type local</th>\n",
       "      <th>Identifiant local</th>\n",
       "      <th>Surface reelle bati</th>\n",
       "      <th>Nombre pieces principales</th>\n",
       "      <th>Surface terrain</th>\n",
       "      <th>prix_m2</th>\n",
       "    </tr>\n",
       "  </thead>\n",
       "  <tbody>\n",
       "    <tr>\n",
       "      <th>count</th>\n",
       "      <td>0.0</td>\n",
       "      <td>0.0</td>\n",
       "      <td>0.0</td>\n",
       "      <td>0.0</td>\n",
       "      <td>0.0</td>\n",
       "      <td>0.0</td>\n",
       "      <td>0.0</td>\n",
       "      <td>13200.000000</td>\n",
       "      <td>1.320000e+04</td>\n",
       "      <td>13155.000000</td>\n",
       "      <td>...</td>\n",
       "      <td>254.000000</td>\n",
       "      <td>104.000000</td>\n",
       "      <td>49.000000</td>\n",
       "      <td>13200.000000</td>\n",
       "      <td>13200.000000</td>\n",
       "      <td>0.0</td>\n",
       "      <td>13200.000000</td>\n",
       "      <td>13200.000000</td>\n",
       "      <td>3668.000000</td>\n",
       "      <td>1.320000e+04</td>\n",
       "    </tr>\n",
       "    <tr>\n",
       "      <th>mean</th>\n",
       "      <td>NaN</td>\n",
       "      <td>NaN</td>\n",
       "      <td>NaN</td>\n",
       "      <td>NaN</td>\n",
       "      <td>NaN</td>\n",
       "      <td>NaN</td>\n",
       "      <td>NaN</td>\n",
       "      <td>1.005152</td>\n",
       "      <td>5.795447e+05</td>\n",
       "      <td>121.520030</td>\n",
       "      <td>...</td>\n",
       "      <td>69.263780</td>\n",
       "      <td>125.644231</td>\n",
       "      <td>33.489796</td>\n",
       "      <td>0.889848</td>\n",
       "      <td>2.421742</td>\n",
       "      <td>NaN</td>\n",
       "      <td>50.009621</td>\n",
       "      <td>1.461742</td>\n",
       "      <td>605.805889</td>\n",
       "      <td>inf</td>\n",
       "    </tr>\n",
       "    <tr>\n",
       "      <th>std</th>\n",
       "      <td>NaN</td>\n",
       "      <td>NaN</td>\n",
       "      <td>NaN</td>\n",
       "      <td>NaN</td>\n",
       "      <td>NaN</td>\n",
       "      <td>NaN</td>\n",
       "      <td>NaN</td>\n",
       "      <td>0.083329</td>\n",
       "      <td>1.349560e+06</td>\n",
       "      <td>735.695487</td>\n",
       "      <td>...</td>\n",
       "      <td>449.368839</td>\n",
       "      <td>698.907801</td>\n",
       "      <td>67.496334</td>\n",
       "      <td>0.843898</td>\n",
       "      <td>0.753061</td>\n",
       "      <td>NaN</td>\n",
       "      <td>275.385688</td>\n",
       "      <td>1.778360</td>\n",
       "      <td>5832.316733</td>\n",
       "      <td>NaN</td>\n",
       "    </tr>\n",
       "    <tr>\n",
       "      <th>min</th>\n",
       "      <td>NaN</td>\n",
       "      <td>NaN</td>\n",
       "      <td>NaN</td>\n",
       "      <td>NaN</td>\n",
       "      <td>NaN</td>\n",
       "      <td>NaN</td>\n",
       "      <td>NaN</td>\n",
       "      <td>1.000000</td>\n",
       "      <td>1.000000e+00</td>\n",
       "      <td>1.000000</td>\n",
       "      <td>...</td>\n",
       "      <td>2.000000</td>\n",
       "      <td>2.000000</td>\n",
       "      <td>2.000000</td>\n",
       "      <td>0.000000</td>\n",
       "      <td>1.000000</td>\n",
       "      <td>NaN</td>\n",
       "      <td>0.000000</td>\n",
       "      <td>0.000000</td>\n",
       "      <td>10.000000</td>\n",
       "      <td>5.834306e-04</td>\n",
       "    </tr>\n",
       "    <tr>\n",
       "      <th>25%</th>\n",
       "      <td>NaN</td>\n",
       "      <td>NaN</td>\n",
       "      <td>NaN</td>\n",
       "      <td>NaN</td>\n",
       "      <td>NaN</td>\n",
       "      <td>NaN</td>\n",
       "      <td>NaN</td>\n",
       "      <td>1.000000</td>\n",
       "      <td>1.985000e+05</td>\n",
       "      <td>15.000000</td>\n",
       "      <td>...</td>\n",
       "      <td>6.000000</td>\n",
       "      <td>6.000000</td>\n",
       "      <td>7.000000</td>\n",
       "      <td>0.000000</td>\n",
       "      <td>2.000000</td>\n",
       "      <td>NaN</td>\n",
       "      <td>0.000000</td>\n",
       "      <td>0.000000</td>\n",
       "      <td>122.750000</td>\n",
       "      <td>4.900182e+03</td>\n",
       "    </tr>\n",
       "    <tr>\n",
       "      <th>50%</th>\n",
       "      <td>NaN</td>\n",
       "      <td>NaN</td>\n",
       "      <td>NaN</td>\n",
       "      <td>NaN</td>\n",
       "      <td>NaN</td>\n",
       "      <td>NaN</td>\n",
       "      <td>NaN</td>\n",
       "      <td>1.000000</td>\n",
       "      <td>3.093250e+05</td>\n",
       "      <td>37.000000</td>\n",
       "      <td>...</td>\n",
       "      <td>9.000000</td>\n",
       "      <td>9.000000</td>\n",
       "      <td>9.000000</td>\n",
       "      <td>1.000000</td>\n",
       "      <td>2.000000</td>\n",
       "      <td>NaN</td>\n",
       "      <td>26.000000</td>\n",
       "      <td>1.000000</td>\n",
       "      <td>195.000000</td>\n",
       "      <td>1.422253e+04</td>\n",
       "    </tr>\n",
       "    <tr>\n",
       "      <th>75%</th>\n",
       "      <td>NaN</td>\n",
       "      <td>NaN</td>\n",
       "      <td>NaN</td>\n",
       "      <td>NaN</td>\n",
       "      <td>NaN</td>\n",
       "      <td>NaN</td>\n",
       "      <td>NaN</td>\n",
       "      <td>1.000000</td>\n",
       "      <td>5.500000e+05</td>\n",
       "      <td>81.000000</td>\n",
       "      <td>...</td>\n",
       "      <td>42.750000</td>\n",
       "      <td>29.250000</td>\n",
       "      <td>31.000000</td>\n",
       "      <td>1.000000</td>\n",
       "      <td>3.000000</td>\n",
       "      <td>NaN</td>\n",
       "      <td>66.000000</td>\n",
       "      <td>3.000000</td>\n",
       "      <td>340.000000</td>\n",
       "      <td>NaN</td>\n",
       "    </tr>\n",
       "    <tr>\n",
       "      <th>max</th>\n",
       "      <td>NaN</td>\n",
       "      <td>NaN</td>\n",
       "      <td>NaN</td>\n",
       "      <td>NaN</td>\n",
       "      <td>NaN</td>\n",
       "      <td>NaN</td>\n",
       "      <td>NaN</td>\n",
       "      <td>3.000000</td>\n",
       "      <td>2.000000e+07</td>\n",
       "      <td>9999.000000</td>\n",
       "      <td>...</td>\n",
       "      <td>5077.000000</td>\n",
       "      <td>5078.000000</td>\n",
       "      <td>411.000000</td>\n",
       "      <td>28.000000</td>\n",
       "      <td>4.000000</td>\n",
       "      <td>NaN</td>\n",
       "      <td>23442.000000</td>\n",
       "      <td>15.000000</td>\n",
       "      <td>232145.000000</td>\n",
       "      <td>inf</td>\n",
       "    </tr>\n",
       "  </tbody>\n",
       "</table>\n",
       "<p>8 rows × 27 columns</p>\n",
       "</div>"
      ],
      "text/plain": [
       "       Identifiant de document  Reference document  1 Articles CGI  \\\n",
       "count                      0.0                 0.0             0.0   \n",
       "mean                       NaN                 NaN             NaN   \n",
       "std                        NaN                 NaN             NaN   \n",
       "min                        NaN                 NaN             NaN   \n",
       "25%                        NaN                 NaN             NaN   \n",
       "50%                        NaN                 NaN             NaN   \n",
       "75%                        NaN                 NaN             NaN   \n",
       "max                        NaN                 NaN             NaN   \n",
       "\n",
       "       2 Articles CGI  3 Articles CGI  4 Articles CGI  5 Articles CGI  \\\n",
       "count             0.0             0.0             0.0             0.0   \n",
       "mean              NaN             NaN             NaN             NaN   \n",
       "std               NaN             NaN             NaN             NaN   \n",
       "min               NaN             NaN             NaN             NaN   \n",
       "25%               NaN             NaN             NaN             NaN   \n",
       "50%               NaN             NaN             NaN             NaN   \n",
       "75%               NaN             NaN             NaN             NaN   \n",
       "max               NaN             NaN             NaN             NaN   \n",
       "\n",
       "       No disposition  Valeur fonciere       No voie  ...     3eme lot  \\\n",
       "count    13200.000000     1.320000e+04  13155.000000  ...   254.000000   \n",
       "mean         1.005152     5.795447e+05    121.520030  ...    69.263780   \n",
       "std          0.083329     1.349560e+06    735.695487  ...   449.368839   \n",
       "min          1.000000     1.000000e+00      1.000000  ...     2.000000   \n",
       "25%          1.000000     1.985000e+05     15.000000  ...     6.000000   \n",
       "50%          1.000000     3.093250e+05     37.000000  ...     9.000000   \n",
       "75%          1.000000     5.500000e+05     81.000000  ...    42.750000   \n",
       "max          3.000000     2.000000e+07   9999.000000  ...  5077.000000   \n",
       "\n",
       "          4eme lot    5eme lot  Nombre de lots  Code type local  \\\n",
       "count   104.000000   49.000000    13200.000000     13200.000000   \n",
       "mean    125.644231   33.489796        0.889848         2.421742   \n",
       "std     698.907801   67.496334        0.843898         0.753061   \n",
       "min       2.000000    2.000000        0.000000         1.000000   \n",
       "25%       6.000000    7.000000        0.000000         2.000000   \n",
       "50%       9.000000    9.000000        1.000000         2.000000   \n",
       "75%      29.250000   31.000000        1.000000         3.000000   \n",
       "max    5078.000000  411.000000       28.000000         4.000000   \n",
       "\n",
       "       Identifiant local  Surface reelle bati  Nombre pieces principales  \\\n",
       "count                0.0         13200.000000               13200.000000   \n",
       "mean                 NaN            50.009621                   1.461742   \n",
       "std                  NaN           275.385688                   1.778360   \n",
       "min                  NaN             0.000000                   0.000000   \n",
       "25%                  NaN             0.000000                   0.000000   \n",
       "50%                  NaN            26.000000                   1.000000   \n",
       "75%                  NaN            66.000000                   3.000000   \n",
       "max                  NaN         23442.000000                  15.000000   \n",
       "\n",
       "       Surface terrain       prix_m2  \n",
       "count      3668.000000  1.320000e+04  \n",
       "mean        605.805889           inf  \n",
       "std        5832.316733           NaN  \n",
       "min          10.000000  5.834306e-04  \n",
       "25%         122.750000  4.900182e+03  \n",
       "50%         195.000000  1.422253e+04  \n",
       "75%         340.000000           NaN  \n",
       "max      232145.000000           inf  \n",
       "\n",
       "[8 rows x 27 columns]"
      ]
     },
     "execution_count": 5,
     "metadata": {},
     "output_type": "execute_result"
    }
   ],
   "source": [
    "df_bordeaux.describe()"
   ]
  },
  {
   "cell_type": "code",
   "execution_count": 6,
   "id": "f9047f84",
   "metadata": {},
   "outputs": [
    {
     "data": {
      "text/html": [
       "<div>\n",
       "<style scoped>\n",
       "    .dataframe tbody tr th:only-of-type {\n",
       "        vertical-align: middle;\n",
       "    }\n",
       "\n",
       "    .dataframe tbody tr th {\n",
       "        vertical-align: top;\n",
       "    }\n",
       "\n",
       "    .dataframe thead th {\n",
       "        text-align: right;\n",
       "    }\n",
       "</style>\n",
       "<table border=\"1\" class=\"dataframe\">\n",
       "  <thead>\n",
       "    <tr style=\"text-align: right;\">\n",
       "      <th></th>\n",
       "      <th>Date mutation</th>\n",
       "      <th>Nature mutation</th>\n",
       "      <th>B/T/Q</th>\n",
       "      <th>Type de voie</th>\n",
       "      <th>Code voie</th>\n",
       "      <th>Voie</th>\n",
       "      <th>Commune</th>\n",
       "      <th>Section</th>\n",
       "      <th>1er lot</th>\n",
       "      <th>Surface Carrez du 1er lot</th>\n",
       "      <th>Surface Carrez du 2eme lot</th>\n",
       "      <th>Surface Carrez du 3eme lot</th>\n",
       "      <th>Surface Carrez du 4eme lot</th>\n",
       "      <th>Surface Carrez du 5eme lot</th>\n",
       "      <th>Type local</th>\n",
       "      <th>Nature culture</th>\n",
       "      <th>Nature culture speciale</th>\n",
       "    </tr>\n",
       "  </thead>\n",
       "  <tbody>\n",
       "    <tr>\n",
       "      <th>count</th>\n",
       "      <td>13200</td>\n",
       "      <td>13200</td>\n",
       "      <td>402</td>\n",
       "      <td>13198</td>\n",
       "      <td>13200</td>\n",
       "      <td>13200</td>\n",
       "      <td>13200</td>\n",
       "      <td>13157</td>\n",
       "      <td>9530</td>\n",
       "      <td>2000</td>\n",
       "      <td>336</td>\n",
       "      <td>33</td>\n",
       "      <td>13</td>\n",
       "      <td>11</td>\n",
       "      <td>13200</td>\n",
       "      <td>3668</td>\n",
       "      <td>15</td>\n",
       "    </tr>\n",
       "    <tr>\n",
       "      <th>unique</th>\n",
       "      <td>262</td>\n",
       "      <td>1</td>\n",
       "      <td>4</td>\n",
       "      <td>20</td>\n",
       "      <td>1309</td>\n",
       "      <td>1274</td>\n",
       "      <td>1</td>\n",
       "      <td>346</td>\n",
       "      <td>1027</td>\n",
       "      <td>1506</td>\n",
       "      <td>167</td>\n",
       "      <td>13</td>\n",
       "      <td>6</td>\n",
       "      <td>4</td>\n",
       "      <td>4</td>\n",
       "      <td>4</td>\n",
       "      <td>2</td>\n",
       "    </tr>\n",
       "    <tr>\n",
       "      <th>top</th>\n",
       "      <td>07/04/2022</td>\n",
       "      <td>Vente</td>\n",
       "      <td>B</td>\n",
       "      <td>RUE</td>\n",
       "      <td>7711</td>\n",
       "      <td>DE QUEBEC</td>\n",
       "      <td>BORDEAUX</td>\n",
       "      <td>RM</td>\n",
       "      <td>1</td>\n",
       "      <td>2066,19</td>\n",
       "      <td>20,10</td>\n",
       "      <td>139,26</td>\n",
       "      <td>25,60</td>\n",
       "      <td>6,00</td>\n",
       "      <td>Dépendance</td>\n",
       "      <td>S</td>\n",
       "      <td>POTAG</td>\n",
       "    </tr>\n",
       "    <tr>\n",
       "      <th>freq</th>\n",
       "      <td>132</td>\n",
       "      <td>13200</td>\n",
       "      <td>319</td>\n",
       "      <td>9772</td>\n",
       "      <td>167</td>\n",
       "      <td>167</td>\n",
       "      <td>13200</td>\n",
       "      <td>194</td>\n",
       "      <td>459</td>\n",
       "      <td>39</td>\n",
       "      <td>6</td>\n",
       "      <td>6</td>\n",
       "      <td>6</td>\n",
       "      <td>6</td>\n",
       "      <td>5714</td>\n",
       "      <td>3608</td>\n",
       "      <td>14</td>\n",
       "    </tr>\n",
       "  </tbody>\n",
       "</table>\n",
       "</div>"
      ],
      "text/plain": [
       "       Date mutation Nature mutation B/T/Q Type de voie Code voie       Voie  \\\n",
       "count          13200           13200   402        13198     13200      13200   \n",
       "unique           262               1     4           20      1309       1274   \n",
       "top       07/04/2022           Vente     B          RUE      7711  DE QUEBEC   \n",
       "freq             132           13200   319         9772       167        167   \n",
       "\n",
       "         Commune Section 1er lot Surface Carrez du 1er lot  \\\n",
       "count      13200   13157    9530                      2000   \n",
       "unique         1     346    1027                      1506   \n",
       "top     BORDEAUX      RM       1                   2066,19   \n",
       "freq       13200     194     459                        39   \n",
       "\n",
       "       Surface Carrez du 2eme lot Surface Carrez du 3eme lot  \\\n",
       "count                         336                         33   \n",
       "unique                        167                         13   \n",
       "top                         20,10                     139,26   \n",
       "freq                            6                          6   \n",
       "\n",
       "       Surface Carrez du 4eme lot Surface Carrez du 5eme lot  Type local  \\\n",
       "count                          13                         11       13200   \n",
       "unique                          6                          4           4   \n",
       "top                         25,60                       6,00  Dépendance   \n",
       "freq                            6                          6        5714   \n",
       "\n",
       "       Nature culture Nature culture speciale  \n",
       "count            3668                      15  \n",
       "unique              4                       2  \n",
       "top                 S                   POTAG  \n",
       "freq             3608                      14  "
      ]
     },
     "execution_count": 6,
     "metadata": {},
     "output_type": "execute_result"
    }
   ],
   "source": [
    "df_bordeaux.describe(exclude= np.number)"
   ]
  },
  {
   "cell_type": "code",
   "execution_count": 7,
   "id": "301cd856",
   "metadata": {},
   "outputs": [
    {
     "name": "stdout",
     "output_type": "stream",
     "text": [
      "<class 'pandas.core.series.Series'>\n",
      "RangeIndex: 13200 entries, 0 to 13199\n",
      "Series name: Nombre pieces principales\n",
      "Non-Null Count  Dtype  \n",
      "--------------  -----  \n",
      "13200 non-null  float64\n",
      "dtypes: float64(1)\n",
      "memory usage: 103.2 KB\n"
     ]
    }
   ],
   "source": [
    "df_bordeaux['Nombre pieces principales'].info()"
   ]
  },
  {
   "cell_type": "code",
   "execution_count": 8,
   "id": "0cbd6e3e",
   "metadata": {},
   "outputs": [
    {
     "data": {
      "text/plain": [
       "0        4\n",
       "1        1\n",
       "2        0\n",
       "3        1\n",
       "4        0\n",
       "        ..\n",
       "13195    3\n",
       "13196    0\n",
       "13197    0\n",
       "13198    0\n",
       "13199    2\n",
       "Name: Nombre pieces principales, Length: 13200, dtype: int64"
      ]
     },
     "execution_count": 8,
     "metadata": {},
     "output_type": "execute_result"
    }
   ],
   "source": [
    "df_bordeaux['Nombre pieces principales'].astype('int')"
   ]
  },
  {
   "cell_type": "markdown",
   "id": "fa7e9fcd",
   "metadata": {},
   "source": [
    "## Appart & maison de 4 pieces"
   ]
  },
  {
   "cell_type": "code",
   "execution_count": 9,
   "id": "8c9e0dca",
   "metadata": {},
   "outputs": [],
   "source": [
    "df_bordeaux_filtered = df_bordeaux[df_bordeaux['Nombre pieces principales'] == 4]"
   ]
  },
  {
   "cell_type": "code",
   "execution_count": 10,
   "id": "eef44c3b",
   "metadata": {},
   "outputs": [
    {
     "data": {
      "text/plain": [
       "array(['Maison', 'Appartement'], dtype=object)"
      ]
     },
     "execution_count": 10,
     "metadata": {},
     "output_type": "execute_result"
    }
   ],
   "source": [
    "df_bordeaux_filtered['Type local'].unique()"
   ]
  },
  {
   "cell_type": "code",
   "execution_count": 11,
   "id": "1b6f5c0c",
   "metadata": {},
   "outputs": [],
   "source": [
    "df_maison = df_bordeaux_filtered[df_bordeaux_filtered['Type local'] == 'Maison']"
   ]
  },
  {
   "cell_type": "code",
   "execution_count": 12,
   "id": "c9eab93d",
   "metadata": {},
   "outputs": [],
   "source": [
    "df_appart = df_bordeaux_filtered[df_bordeaux_filtered['Type local'] == 'Appartement']"
   ]
  },
  {
   "cell_type": "markdown",
   "id": "53c55b45",
   "metadata": {},
   "source": [
    "## Colonnes requises"
   ]
  },
  {
   "cell_type": "code",
   "execution_count": 13,
   "id": "06e1ef0f",
   "metadata": {},
   "outputs": [],
   "source": [
    "required_columns = ['Surface reelle bati', 'Nombre pieces principales',\n",
    "'Type local','Surface terrain','Nombre de lots','prix_m2']"
   ]
  },
  {
   "cell_type": "code",
   "execution_count": 14,
   "id": "7daa8081",
   "metadata": {},
   "outputs": [],
   "source": [
    "df_maison_ = df_maison[required_columns]"
   ]
  },
  {
   "cell_type": "code",
   "execution_count": 15,
   "id": "f2f7e8fe",
   "metadata": {},
   "outputs": [
    {
     "data": {
      "text/plain": [
       "(408, 6)"
      ]
     },
     "execution_count": 15,
     "metadata": {},
     "output_type": "execute_result"
    }
   ],
   "source": [
    "df_maison_.shape"
   ]
  },
  {
   "cell_type": "code",
   "execution_count": 16,
   "id": "c6c7a9a7",
   "metadata": {},
   "outputs": [
    {
     "data": {
      "text/html": [
       "<div>\n",
       "<style scoped>\n",
       "    .dataframe tbody tr th:only-of-type {\n",
       "        vertical-align: middle;\n",
       "    }\n",
       "\n",
       "    .dataframe tbody tr th {\n",
       "        vertical-align: top;\n",
       "    }\n",
       "\n",
       "    .dataframe thead th {\n",
       "        text-align: right;\n",
       "    }\n",
       "</style>\n",
       "<table border=\"1\" class=\"dataframe\">\n",
       "  <thead>\n",
       "    <tr style=\"text-align: right;\">\n",
       "      <th></th>\n",
       "      <th>Type local</th>\n",
       "    </tr>\n",
       "  </thead>\n",
       "  <tbody>\n",
       "    <tr>\n",
       "      <th>count</th>\n",
       "      <td>408</td>\n",
       "    </tr>\n",
       "    <tr>\n",
       "      <th>unique</th>\n",
       "      <td>1</td>\n",
       "    </tr>\n",
       "    <tr>\n",
       "      <th>top</th>\n",
       "      <td>Maison</td>\n",
       "    </tr>\n",
       "    <tr>\n",
       "      <th>freq</th>\n",
       "      <td>408</td>\n",
       "    </tr>\n",
       "  </tbody>\n",
       "</table>\n",
       "</div>"
      ],
      "text/plain": [
       "       Type local\n",
       "count         408\n",
       "unique          1\n",
       "top        Maison\n",
       "freq          408"
      ]
     },
     "execution_count": 16,
     "metadata": {},
     "output_type": "execute_result"
    }
   ],
   "source": [
    "df_maison_.describe(exclude=np.number)"
   ]
  },
  {
   "cell_type": "code",
   "execution_count": 17,
   "id": "b41da18a",
   "metadata": {},
   "outputs": [
    {
     "data": {
      "text/html": [
       "<div>\n",
       "<style scoped>\n",
       "    .dataframe tbody tr th:only-of-type {\n",
       "        vertical-align: middle;\n",
       "    }\n",
       "\n",
       "    .dataframe tbody tr th {\n",
       "        vertical-align: top;\n",
       "    }\n",
       "\n",
       "    .dataframe thead th {\n",
       "        text-align: right;\n",
       "    }\n",
       "</style>\n",
       "<table border=\"1\" class=\"dataframe\">\n",
       "  <thead>\n",
       "    <tr style=\"text-align: right;\">\n",
       "      <th></th>\n",
       "      <th>Surface reelle bati</th>\n",
       "      <th>Nombre pieces principales</th>\n",
       "      <th>Surface terrain</th>\n",
       "      <th>Nombre de lots</th>\n",
       "      <th>prix_m2</th>\n",
       "    </tr>\n",
       "  </thead>\n",
       "  <tbody>\n",
       "    <tr>\n",
       "      <th>count</th>\n",
       "      <td>408.000000</td>\n",
       "      <td>408.0</td>\n",
       "      <td>386.000000</td>\n",
       "      <td>408.000000</td>\n",
       "      <td>408.000000</td>\n",
       "    </tr>\n",
       "    <tr>\n",
       "      <th>mean</th>\n",
       "      <td>100.134804</td>\n",
       "      <td>4.0</td>\n",
       "      <td>204.295337</td>\n",
       "      <td>0.071078</td>\n",
       "      <td>5509.101169</td>\n",
       "    </tr>\n",
       "    <tr>\n",
       "      <th>std</th>\n",
       "      <td>26.013963</td>\n",
       "      <td>0.0</td>\n",
       "      <td>129.491536</td>\n",
       "      <td>0.324808</td>\n",
       "      <td>2308.811392</td>\n",
       "    </tr>\n",
       "    <tr>\n",
       "      <th>min</th>\n",
       "      <td>42.000000</td>\n",
       "      <td>4.0</td>\n",
       "      <td>38.000000</td>\n",
       "      <td>0.000000</td>\n",
       "      <td>70.742268</td>\n",
       "    </tr>\n",
       "    <tr>\n",
       "      <th>25%</th>\n",
       "      <td>82.000000</td>\n",
       "      <td>4.0</td>\n",
       "      <td>116.250000</td>\n",
       "      <td>0.000000</td>\n",
       "      <td>4470.616883</td>\n",
       "    </tr>\n",
       "    <tr>\n",
       "      <th>50%</th>\n",
       "      <td>96.000000</td>\n",
       "      <td>4.0</td>\n",
       "      <td>166.000000</td>\n",
       "      <td>0.000000</td>\n",
       "      <td>5267.942584</td>\n",
       "    </tr>\n",
       "    <tr>\n",
       "      <th>75%</th>\n",
       "      <td>115.000000</td>\n",
       "      <td>4.0</td>\n",
       "      <td>251.750000</td>\n",
       "      <td>0.000000</td>\n",
       "      <td>6205.833727</td>\n",
       "    </tr>\n",
       "    <tr>\n",
       "      <th>max</th>\n",
       "      <td>210.000000</td>\n",
       "      <td>4.0</td>\n",
       "      <td>973.000000</td>\n",
       "      <td>3.000000</td>\n",
       "      <td>32708.245536</td>\n",
       "    </tr>\n",
       "  </tbody>\n",
       "</table>\n",
       "</div>"
      ],
      "text/plain": [
       "       Surface reelle bati  Nombre pieces principales  Surface terrain  \\\n",
       "count           408.000000                      408.0       386.000000   \n",
       "mean            100.134804                        4.0       204.295337   \n",
       "std              26.013963                        0.0       129.491536   \n",
       "min              42.000000                        4.0        38.000000   \n",
       "25%              82.000000                        4.0       116.250000   \n",
       "50%              96.000000                        4.0       166.000000   \n",
       "75%             115.000000                        4.0       251.750000   \n",
       "max             210.000000                        4.0       973.000000   \n",
       "\n",
       "       Nombre de lots       prix_m2  \n",
       "count      408.000000    408.000000  \n",
       "mean         0.071078   5509.101169  \n",
       "std          0.324808   2308.811392  \n",
       "min          0.000000     70.742268  \n",
       "25%          0.000000   4470.616883  \n",
       "50%          0.000000   5267.942584  \n",
       "75%          0.000000   6205.833727  \n",
       "max          3.000000  32708.245536  "
      ]
     },
     "execution_count": 17,
     "metadata": {},
     "output_type": "execute_result"
    }
   ],
   "source": [
    "df_maison_.describe()"
   ]
  },
  {
   "cell_type": "code",
   "execution_count": 18,
   "id": "b4e2562c",
   "metadata": {},
   "outputs": [],
   "source": [
    "df_appart_ = df_appart[required_columns]"
   ]
  },
  {
   "cell_type": "code",
   "execution_count": 19,
   "id": "c55a3be3",
   "metadata": {},
   "outputs": [
    {
     "data": {
      "text/plain": [
       "(663, 6)"
      ]
     },
     "execution_count": 19,
     "metadata": {},
     "output_type": "execute_result"
    }
   ],
   "source": [
    "df_appart_.shape"
   ]
  },
  {
   "cell_type": "code",
   "execution_count": 20,
   "id": "ca2aae56",
   "metadata": {},
   "outputs": [
    {
     "data": {
      "text/html": [
       "<div>\n",
       "<style scoped>\n",
       "    .dataframe tbody tr th:only-of-type {\n",
       "        vertical-align: middle;\n",
       "    }\n",
       "\n",
       "    .dataframe tbody tr th {\n",
       "        vertical-align: top;\n",
       "    }\n",
       "\n",
       "    .dataframe thead th {\n",
       "        text-align: right;\n",
       "    }\n",
       "</style>\n",
       "<table border=\"1\" class=\"dataframe\">\n",
       "  <thead>\n",
       "    <tr style=\"text-align: right;\">\n",
       "      <th></th>\n",
       "      <th>Surface reelle bati</th>\n",
       "      <th>Nombre pieces principales</th>\n",
       "      <th>Surface terrain</th>\n",
       "      <th>Nombre de lots</th>\n",
       "      <th>prix_m2</th>\n",
       "    </tr>\n",
       "  </thead>\n",
       "  <tbody>\n",
       "    <tr>\n",
       "      <th>count</th>\n",
       "      <td>663.000000</td>\n",
       "      <td>663.0</td>\n",
       "      <td>61.000000</td>\n",
       "      <td>663.000000</td>\n",
       "      <td>663.000000</td>\n",
       "    </tr>\n",
       "    <tr>\n",
       "      <th>mean</th>\n",
       "      <td>91.923077</td>\n",
       "      <td>4.0</td>\n",
       "      <td>832.901639</td>\n",
       "      <td>1.212670</td>\n",
       "      <td>5259.647304</td>\n",
       "    </tr>\n",
       "    <tr>\n",
       "      <th>std</th>\n",
       "      <td>22.766352</td>\n",
       "      <td>0.0</td>\n",
       "      <td>2321.583746</td>\n",
       "      <td>0.678782</td>\n",
       "      <td>5360.727387</td>\n",
       "    </tr>\n",
       "    <tr>\n",
       "      <th>min</th>\n",
       "      <td>30.000000</td>\n",
       "      <td>4.0</td>\n",
       "      <td>61.000000</td>\n",
       "      <td>0.000000</td>\n",
       "      <td>0.008333</td>\n",
       "    </tr>\n",
       "    <tr>\n",
       "      <th>25%</th>\n",
       "      <td>77.000000</td>\n",
       "      <td>4.0</td>\n",
       "      <td>140.000000</td>\n",
       "      <td>1.000000</td>\n",
       "      <td>3344.830380</td>\n",
       "    </tr>\n",
       "    <tr>\n",
       "      <th>50%</th>\n",
       "      <td>87.000000</td>\n",
       "      <td>4.0</td>\n",
       "      <td>249.000000</td>\n",
       "      <td>1.000000</td>\n",
       "      <td>4165.951220</td>\n",
       "    </tr>\n",
       "    <tr>\n",
       "      <th>75%</th>\n",
       "      <td>102.000000</td>\n",
       "      <td>4.0</td>\n",
       "      <td>400.000000</td>\n",
       "      <td>2.000000</td>\n",
       "      <td>5279.625524</td>\n",
       "    </tr>\n",
       "    <tr>\n",
       "      <th>max</th>\n",
       "      <td>252.000000</td>\n",
       "      <td>4.0</td>\n",
       "      <td>10897.000000</td>\n",
       "      <td>6.000000</td>\n",
       "      <td>68181.818182</td>\n",
       "    </tr>\n",
       "  </tbody>\n",
       "</table>\n",
       "</div>"
      ],
      "text/plain": [
       "       Surface reelle bati  Nombre pieces principales  Surface terrain  \\\n",
       "count           663.000000                      663.0        61.000000   \n",
       "mean             91.923077                        4.0       832.901639   \n",
       "std              22.766352                        0.0      2321.583746   \n",
       "min              30.000000                        4.0        61.000000   \n",
       "25%              77.000000                        4.0       140.000000   \n",
       "50%              87.000000                        4.0       249.000000   \n",
       "75%             102.000000                        4.0       400.000000   \n",
       "max             252.000000                        4.0     10897.000000   \n",
       "\n",
       "       Nombre de lots       prix_m2  \n",
       "count      663.000000    663.000000  \n",
       "mean         1.212670   5259.647304  \n",
       "std          0.678782   5360.727387  \n",
       "min          0.000000      0.008333  \n",
       "25%          1.000000   3344.830380  \n",
       "50%          1.000000   4165.951220  \n",
       "75%          2.000000   5279.625524  \n",
       "max          6.000000  68181.818182  "
      ]
     },
     "execution_count": 20,
     "metadata": {},
     "output_type": "execute_result"
    }
   ],
   "source": [
    "df_appart_.describe()"
   ]
  },
  {
   "cell_type": "markdown",
   "id": "66eaf00e",
   "metadata": {},
   "source": [
    "## 6. **Nettoyer les données** :\n",
    "    - Supprimer les lignes avec valeurs manquantes sur les colonnes utilisées\n",
    "    - Identifier et retirer les valeurs aberrantes (prix au m² trop faible ou trop élevé)"
   ]
  },
  {
   "cell_type": "code",
   "execution_count": 21,
   "id": "3cebff5b",
   "metadata": {},
   "outputs": [
    {
     "data": {
      "text/plain": [
       "Surface reelle bati          False\n",
       "Nombre pieces principales    False\n",
       "Type local                   False\n",
       "Surface terrain               True\n",
       "Nombre de lots               False\n",
       "prix_m2                      False\n",
       "dtype: bool"
      ]
     },
     "execution_count": 21,
     "metadata": {},
     "output_type": "execute_result"
    }
   ],
   "source": [
    "df_maison_.isna().any(axis=0)"
   ]
  },
  {
   "cell_type": "code",
   "execution_count": 22,
   "id": "1f43e445",
   "metadata": {},
   "outputs": [
    {
     "name": "stderr",
     "output_type": "stream",
     "text": [
      "C:\\Users\\User\\AppData\\Local\\Temp\\ipykernel_9664\\2148659308.py:1: SettingWithCopyWarning: \n",
      "A value is trying to be set on a copy of a slice from a DataFrame\n",
      "\n",
      "See the caveats in the documentation: https://pandas.pydata.org/pandas-docs/stable/user_guide/indexing.html#returning-a-view-versus-a-copy\n",
      "  df_maison_.dropna(axis=0, inplace=True)\n"
     ]
    }
   ],
   "source": [
    "df_maison_.dropna(axis=0, inplace=True)"
   ]
  },
  {
   "cell_type": "code",
   "execution_count": 23,
   "id": "8ce05d29",
   "metadata": {},
   "outputs": [
    {
     "data": {
      "text/plain": [
       "(386, 6)"
      ]
     },
     "execution_count": 23,
     "metadata": {},
     "output_type": "execute_result"
    }
   ],
   "source": [
    "df_maison_.shape"
   ]
  },
  {
   "cell_type": "code",
   "execution_count": 24,
   "id": "6533671a",
   "metadata": {},
   "outputs": [
    {
     "data": {
      "text/plain": [
       "Surface reelle bati          False\n",
       "Nombre pieces principales    False\n",
       "Type local                   False\n",
       "Surface terrain               True\n",
       "Nombre de lots               False\n",
       "prix_m2                      False\n",
       "dtype: bool"
      ]
     },
     "execution_count": 24,
     "metadata": {},
     "output_type": "execute_result"
    }
   ],
   "source": [
    "df_appart_.isna().any(axis=0)"
   ]
  },
  {
   "cell_type": "code",
   "execution_count": 25,
   "id": "37794998",
   "metadata": {},
   "outputs": [
    {
     "name": "stderr",
     "output_type": "stream",
     "text": [
      "C:\\Users\\User\\AppData\\Local\\Temp\\ipykernel_9664\\1012287777.py:1: SettingWithCopyWarning: \n",
      "A value is trying to be set on a copy of a slice from a DataFrame\n",
      "\n",
      "See the caveats in the documentation: https://pandas.pydata.org/pandas-docs/stable/user_guide/indexing.html#returning-a-view-versus-a-copy\n",
      "  df_appart_.dropna(axis=0,inplace=True)\n"
     ]
    }
   ],
   "source": [
    "df_appart_.dropna(axis=0,inplace=True)"
   ]
  },
  {
   "cell_type": "code",
   "execution_count": 26,
   "id": "6c6dc94b",
   "metadata": {},
   "outputs": [
    {
     "data": {
      "text/plain": [
       "(61, 6)"
      ]
     },
     "execution_count": 26,
     "metadata": {},
     "output_type": "execute_result"
    }
   ],
   "source": [
    "df_appart_.shape"
   ]
  },
  {
   "cell_type": "markdown",
   "id": "bf225f7e",
   "metadata": {},
   "source": [
    "## Outliers"
   ]
  },
  {
   "cell_type": "code",
   "execution_count": 27,
   "id": "3009d6a8",
   "metadata": {},
   "outputs": [],
   "source": [
    "def drop_outliers(df:pd.DataFrame, column:str):\n",
    "    q1 = df[column].quantile(0.25)\n",
    "    q3 = df[column].quantile(0.75)\n",
    "    IQR=q3-q1\n",
    "\n",
    "    without_outliers = df[((df[column]>(q1-1.5*IQR)) & (df[column]<(q3+1.5*IQR)))]\n",
    "    return without_outliers\n",
    "    \n"
   ]
  },
  {
   "cell_type": "code",
   "execution_count": 28,
   "id": "3cac2f2e",
   "metadata": {},
   "outputs": [],
   "source": [
    "import matplotlib.pyplot as plt\n",
    "import seaborn as sns"
   ]
  },
  {
   "cell_type": "code",
   "execution_count": 29,
   "id": "b2b09b9f",
   "metadata": {},
   "outputs": [
    {
     "data": {
      "image/png": "[encoded data removed]",
      "text/plain": [
       "<Figure size 640x480 with 1 Axes>"
      ]
     },
     "metadata": {},
     "output_type": "display_data"
    }
   ],
   "source": [
    "sns.boxplot(df_maison_['prix_m2'])\n",
    "plt.show()"
   ]
  },
  {
   "cell_type": "code",
   "execution_count": 30,
   "id": "bd7e638e",
   "metadata": {},
   "outputs": [
    {
     "data": {
      "image/png": "[encoded data removed]",
      "text/plain": [
       "<Figure size 640x480 with 1 Axes>"
      ]
     },
     "metadata": {},
     "output_type": "display_data"
    }
   ],
   "source": [
    "plt.boxplot(df_maison_['prix_m2'])\n",
    "plt.show()"
   ]
  },
  {
   "cell_type": "code",
   "execution_count": 31,
   "id": "a8a26da1",
   "metadata": {},
   "outputs": [
    {
     "data": {
      "image/png": "[encoded data removed]",
      "text/plain": [
       "<Figure size 640x480 with 1 Axes>"
      ]
     },
     "metadata": {},
     "output_type": "display_data"
    }
   ],
   "source": [
    "sns.boxplot(df_appart_['prix_m2'])\n",
    "plt.show()"
   ]
  },
  {
   "cell_type": "code",
   "execution_count": 32,
   "id": "05804797",
   "metadata": {},
   "outputs": [
    {
     "data": {
      "text/html": [
       "<div>\n",
       "<style scoped>\n",
       "    .dataframe tbody tr th:only-of-type {\n",
       "        vertical-align: middle;\n",
       "    }\n",
       "\n",
       "    .dataframe tbody tr th {\n",
       "        vertical-align: top;\n",
       "    }\n",
       "\n",
       "    .dataframe thead th {\n",
       "        text-align: right;\n",
       "    }\n",
       "</style>\n",
       "<table border=\"1\" class=\"dataframe\">\n",
       "  <thead>\n",
       "    <tr style=\"text-align: right;\">\n",
       "      <th></th>\n",
       "      <th>Surface reelle bati</th>\n",
       "      <th>Nombre pieces principales</th>\n",
       "      <th>Type local</th>\n",
       "      <th>Surface terrain</th>\n",
       "      <th>Nombre de lots</th>\n",
       "      <th>prix_m2</th>\n",
       "    </tr>\n",
       "  </thead>\n",
       "  <tbody>\n",
       "    <tr>\n",
       "      <th>0</th>\n",
       "      <td>71.0</td>\n",
       "      <td>4.0</td>\n",
       "      <td>Maison</td>\n",
       "      <td>70.0</td>\n",
       "      <td>0</td>\n",
       "      <td>5577.464789</td>\n",
       "    </tr>\n",
       "    <tr>\n",
       "      <th>31</th>\n",
       "      <td>92.0</td>\n",
       "      <td>4.0</td>\n",
       "      <td>Maison</td>\n",
       "      <td>121.0</td>\n",
       "      <td>0</td>\n",
       "      <td>5760.869565</td>\n",
       "    </tr>\n",
       "    <tr>\n",
       "      <th>48</th>\n",
       "      <td>129.0</td>\n",
       "      <td>4.0</td>\n",
       "      <td>Maison</td>\n",
       "      <td>175.0</td>\n",
       "      <td>0</td>\n",
       "      <td>5426.356589</td>\n",
       "    </tr>\n",
       "    <tr>\n",
       "      <th>75</th>\n",
       "      <td>115.0</td>\n",
       "      <td>4.0</td>\n",
       "      <td>Maison</td>\n",
       "      <td>362.0</td>\n",
       "      <td>0</td>\n",
       "      <td>4695.652174</td>\n",
       "    </tr>\n",
       "    <tr>\n",
       "      <th>141</th>\n",
       "      <td>120.0</td>\n",
       "      <td>4.0</td>\n",
       "      <td>Maison</td>\n",
       "      <td>50.0</td>\n",
       "      <td>0</td>\n",
       "      <td>4625.000000</td>\n",
       "    </tr>\n",
       "  </tbody>\n",
       "</table>\n",
       "</div>"
      ],
      "text/plain": [
       "     Surface reelle bati  Nombre pieces principales Type local  \\\n",
       "0                   71.0                        4.0     Maison   \n",
       "31                  92.0                        4.0     Maison   \n",
       "48                 129.0                        4.0     Maison   \n",
       "75                 115.0                        4.0     Maison   \n",
       "141                120.0                        4.0     Maison   \n",
       "\n",
       "     Surface terrain  Nombre de lots      prix_m2  \n",
       "0               70.0               0  5577.464789  \n",
       "31             121.0               0  5760.869565  \n",
       "48             175.0               0  5426.356589  \n",
       "75             362.0               0  4695.652174  \n",
       "141             50.0               0  4625.000000  "
      ]
     },
     "execution_count": 32,
     "metadata": {},
     "output_type": "execute_result"
    }
   ],
   "source": [
    "df_maison_to_process = drop_outliers(df_maison_, 'prix_m2')\n",
    "df_maison_to_process.head()"
   ]
  },
  {
   "cell_type": "code",
   "execution_count": 33,
   "id": "63fdbfc5",
   "metadata": {},
   "outputs": [
    {
     "data": {
      "text/html": [
       "<div>\n",
       "<style scoped>\n",
       "    .dataframe tbody tr th:only-of-type {\n",
       "        vertical-align: middle;\n",
       "    }\n",
       "\n",
       "    .dataframe tbody tr th {\n",
       "        vertical-align: top;\n",
       "    }\n",
       "\n",
       "    .dataframe thead th {\n",
       "        text-align: right;\n",
       "    }\n",
       "</style>\n",
       "<table border=\"1\" class=\"dataframe\">\n",
       "  <thead>\n",
       "    <tr style=\"text-align: right;\">\n",
       "      <th></th>\n",
       "      <th>Surface reelle bati</th>\n",
       "      <th>Nombre pieces principales</th>\n",
       "      <th>Type local</th>\n",
       "      <th>Surface terrain</th>\n",
       "      <th>Nombre de lots</th>\n",
       "      <th>prix_m2</th>\n",
       "    </tr>\n",
       "  </thead>\n",
       "  <tbody>\n",
       "    <tr>\n",
       "      <th>605</th>\n",
       "      <td>63.0</td>\n",
       "      <td>4.0</td>\n",
       "      <td>Appartement</td>\n",
       "      <td>122.0</td>\n",
       "      <td>0</td>\n",
       "      <td>11111.111111</td>\n",
       "    </tr>\n",
       "    <tr>\n",
       "      <th>1378</th>\n",
       "      <td>74.0</td>\n",
       "      <td>4.0</td>\n",
       "      <td>Appartement</td>\n",
       "      <td>87.0</td>\n",
       "      <td>0</td>\n",
       "      <td>6756.756757</td>\n",
       "    </tr>\n",
       "    <tr>\n",
       "      <th>1398</th>\n",
       "      <td>120.0</td>\n",
       "      <td>4.0</td>\n",
       "      <td>Appartement</td>\n",
       "      <td>171.0</td>\n",
       "      <td>0</td>\n",
       "      <td>15416.666667</td>\n",
       "    </tr>\n",
       "    <tr>\n",
       "      <th>1490</th>\n",
       "      <td>76.0</td>\n",
       "      <td>4.0</td>\n",
       "      <td>Appartement</td>\n",
       "      <td>340.0</td>\n",
       "      <td>0</td>\n",
       "      <td>1578.947368</td>\n",
       "    </tr>\n",
       "    <tr>\n",
       "      <th>2568</th>\n",
       "      <td>84.0</td>\n",
       "      <td>4.0</td>\n",
       "      <td>Appartement</td>\n",
       "      <td>65.0</td>\n",
       "      <td>0</td>\n",
       "      <td>6782.142857</td>\n",
       "    </tr>\n",
       "  </tbody>\n",
       "</table>\n",
       "</div>"
      ],
      "text/plain": [
       "      Surface reelle bati  Nombre pieces principales   Type local  \\\n",
       "605                  63.0                        4.0  Appartement   \n",
       "1378                 74.0                        4.0  Appartement   \n",
       "1398                120.0                        4.0  Appartement   \n",
       "1490                 76.0                        4.0  Appartement   \n",
       "2568                 84.0                        4.0  Appartement   \n",
       "\n",
       "      Surface terrain  Nombre de lots       prix_m2  \n",
       "605             122.0               0  11111.111111  \n",
       "1378             87.0               0   6756.756757  \n",
       "1398            171.0               0  15416.666667  \n",
       "1490            340.0               0   1578.947368  \n",
       "2568             65.0               0   6782.142857  "
      ]
     },
     "execution_count": 33,
     "metadata": {},
     "output_type": "execute_result"
    }
   ],
   "source": [
    "df_appart_to_process = drop_outliers(df_appart_, 'prix_m2')\n",
    "df_appart_to_process.head()"
   ]
  },
  {
   "cell_type": "markdown",
   "id": "680b4c75",
   "metadata": {},
   "source": [
    "### Appart"
   ]
  },
  {
   "cell_type": "code",
   "execution_count": 34,
   "id": "5f5d78b0",
   "metadata": {},
   "outputs": [],
   "source": [
    "df_appart_num_fea = df_appart_to_process.drop('Type local', axis=1)"
   ]
  },
  {
   "cell_type": "code",
   "execution_count": 35,
   "id": "02d2ddb0",
   "metadata": {},
   "outputs": [
    {
     "data": {
      "text/html": [
       "<div>\n",
       "<style scoped>\n",
       "    .dataframe tbody tr th:only-of-type {\n",
       "        vertical-align: middle;\n",
       "    }\n",
       "\n",
       "    .dataframe tbody tr th {\n",
       "        vertical-align: top;\n",
       "    }\n",
       "\n",
       "    .dataframe thead th {\n",
       "        text-align: right;\n",
       "    }\n",
       "</style>\n",
       "<table border=\"1\" class=\"dataframe\">\n",
       "  <thead>\n",
       "    <tr style=\"text-align: right;\">\n",
       "      <th></th>\n",
       "      <th>Surface reelle bati</th>\n",
       "      <th>Nombre pieces principales</th>\n",
       "      <th>Surface terrain</th>\n",
       "      <th>Nombre de lots</th>\n",
       "      <th>prix_m2</th>\n",
       "    </tr>\n",
       "  </thead>\n",
       "  <tbody>\n",
       "    <tr>\n",
       "      <th>count</th>\n",
       "      <td>56.000000</td>\n",
       "      <td>56.0</td>\n",
       "      <td>56.000000</td>\n",
       "      <td>56.000000</td>\n",
       "      <td>56.000000</td>\n",
       "    </tr>\n",
       "    <tr>\n",
       "      <th>mean</th>\n",
       "      <td>91.285714</td>\n",
       "      <td>4.0</td>\n",
       "      <td>880.946429</td>\n",
       "      <td>0.035714</td>\n",
       "      <td>12088.219510</td>\n",
       "    </tr>\n",
       "    <tr>\n",
       "      <th>std</th>\n",
       "      <td>25.234691</td>\n",
       "      <td>0.0</td>\n",
       "      <td>2418.737067</td>\n",
       "      <td>0.187256</td>\n",
       "      <td>7833.906035</td>\n",
       "    </tr>\n",
       "    <tr>\n",
       "      <th>min</th>\n",
       "      <td>47.000000</td>\n",
       "      <td>4.0</td>\n",
       "      <td>61.000000</td>\n",
       "      <td>0.000000</td>\n",
       "      <td>0.012048</td>\n",
       "    </tr>\n",
       "    <tr>\n",
       "      <th>25%</th>\n",
       "      <td>70.000000</td>\n",
       "      <td>4.0</td>\n",
       "      <td>140.000000</td>\n",
       "      <td>0.000000</td>\n",
       "      <td>6861.596639</td>\n",
       "    </tr>\n",
       "    <tr>\n",
       "      <th>50%</th>\n",
       "      <td>85.000000</td>\n",
       "      <td>4.0</td>\n",
       "      <td>249.000000</td>\n",
       "      <td>0.000000</td>\n",
       "      <td>10450.640394</td>\n",
       "    </tr>\n",
       "    <tr>\n",
       "      <th>75%</th>\n",
       "      <td>105.250000</td>\n",
       "      <td>4.0</td>\n",
       "      <td>475.250000</td>\n",
       "      <td>0.000000</td>\n",
       "      <td>14783.143108</td>\n",
       "    </tr>\n",
       "    <tr>\n",
       "      <th>max</th>\n",
       "      <td>172.000000</td>\n",
       "      <td>4.0</td>\n",
       "      <td>10897.000000</td>\n",
       "      <td>1.000000</td>\n",
       "      <td>33000.000000</td>\n",
       "    </tr>\n",
       "  </tbody>\n",
       "</table>\n",
       "</div>"
      ],
      "text/plain": [
       "       Surface reelle bati  Nombre pieces principales  Surface terrain  \\\n",
       "count            56.000000                       56.0        56.000000   \n",
       "mean             91.285714                        4.0       880.946429   \n",
       "std              25.234691                        0.0      2418.737067   \n",
       "min              47.000000                        4.0        61.000000   \n",
       "25%              70.000000                        4.0       140.000000   \n",
       "50%              85.000000                        4.0       249.000000   \n",
       "75%             105.250000                        4.0       475.250000   \n",
       "max             172.000000                        4.0     10897.000000   \n",
       "\n",
       "       Nombre de lots       prix_m2  \n",
       "count       56.000000     56.000000  \n",
       "mean         0.035714  12088.219510  \n",
       "std          0.187256   7833.906035  \n",
       "min          0.000000      0.012048  \n",
       "25%          0.000000   6861.596639  \n",
       "50%          0.000000  10450.640394  \n",
       "75%          0.000000  14783.143108  \n",
       "max          1.000000  33000.000000  "
      ]
     },
     "execution_count": 35,
     "metadata": {},
     "output_type": "execute_result"
    }
   ],
   "source": [
    "df_appart_num_fea.describe()"
   ]
  },
  {
   "cell_type": "code",
   "execution_count": 36,
   "id": "ea376692",
   "metadata": {},
   "outputs": [
    {
     "data": {
      "image/png": "[encoded data removed]",
      "text/plain": [
       "<Figure size 640x480 with 2 Axes>"
      ]
     },
     "metadata": {},
     "output_type": "display_data"
    }
   ],
   "source": [
    "sns.heatmap(df_appart_num_fea.corr(), annot=True, cmap='coolwarm', fmt=\".2f\")\n",
    "plt.title('Correlation Matrix')\n",
    "plt.show()"
   ]
  },
  {
   "cell_type": "code",
   "execution_count": 37,
   "id": "4812db13",
   "metadata": {},
   "outputs": [
    {
     "data": {
      "text/plain": [
       "array([[<Axes: title={'center': 'Surface reelle bati'}>,\n",
       "        <Axes: title={'center': 'Nombre pieces principales'}>],\n",
       "       [<Axes: title={'center': 'Surface terrain'}>,\n",
       "        <Axes: title={'center': 'Nombre de lots'}>],\n",
       "       [<Axes: title={'center': 'prix_m2'}>, <Axes: >]], dtype=object)"
      ]
     },
     "execution_count": 37,
     "metadata": {},
     "output_type": "execute_result"
    },
    {
     "data": {
      "image/png": "[encoded data removed]",
      "text/plain": [
       "<Figure size 640x480 with 6 Axes>"
      ]
     },
     "metadata": {},
     "output_type": "display_data"
    }
   ],
   "source": [
    "df_appart_num_fea.hist()"
   ]
  },
  {
   "cell_type": "markdown",
   "id": "64ec82b9",
   "metadata": {},
   "source": [
    "### Maison"
   ]
  },
  {
   "cell_type": "code",
   "execution_count": 38,
   "id": "6aa455e1",
   "metadata": {},
   "outputs": [],
   "source": [
    "df_maison_num_fea = df_maison_to_process.drop('Type local', axis=1)"
   ]
  },
  {
   "cell_type": "code",
   "execution_count": 39,
   "id": "38a87375",
   "metadata": {},
   "outputs": [
    {
     "data": {
      "image/png": "[encoded data removed]",
      "text/plain": [
       "<Figure size 640x480 with 2 Axes>"
      ]
     },
     "metadata": {},
     "output_type": "display_data"
    }
   ],
   "source": [
    "sns.heatmap(df_maison_num_fea.corr(), annot=True, cmap='coolwarm', fmt=\".2f\")\n",
    "plt.title('Correlation Matrix')\n",
    "plt.show()"
   ]
  },
  {
   "cell_type": "code",
   "execution_count": 40,
   "id": "fb8da73f",
   "metadata": {},
   "outputs": [
    {
     "data": {
      "text/plain": [
       "array([[<Axes: title={'center': 'Surface reelle bati'}>,\n",
       "        <Axes: title={'center': 'Nombre pieces principales'}>],\n",
       "       [<Axes: title={'center': 'Surface terrain'}>,\n",
       "        <Axes: title={'center': 'Nombre de lots'}>],\n",
       "       [<Axes: title={'center': 'prix_m2'}>, <Axes: >]], dtype=object)"
      ]
     },
     "execution_count": 40,
     "metadata": {},
     "output_type": "execute_result"
    },
    {
     "data": {
      "image/png": "[encoded data removed]",
      "text/plain": [
       "<Figure size 640x480 with 6 Axes>"
      ]
     },
     "metadata": {},
     "output_type": "display_data"
    }
   ],
   "source": [
    "df_maison_num_fea.hist()"
   ]
  },
  {
   "cell_type": "code",
   "execution_count": 41,
   "id": "5d275654",
   "metadata": {},
   "outputs": [
    {
     "data": {
      "image/png": "[encoded data removed]",
      "text/plain": [
       "<Figure size 640x480 with 1 Axes>"
      ]
     },
     "metadata": {},
     "output_type": "display_data"
    }
   ],
   "source": [
    "plt.scatter(df_appart_num_fea['Surface terrain'],df_appart_num_fea['prix_m2'])\n",
    "plt.xlabel('Surface terrain')\n",
    "plt.ylabel('prix_m2')\n",
    "plt.show()"
   ]
  },
  {
   "cell_type": "code",
   "execution_count": 42,
   "id": "7e858d1e",
   "metadata": {},
   "outputs": [
    {
     "data": {
      "image/png": "[encoded data removed]",
      "text/plain": [
       "<Figure size 640x480 with 1 Axes>"
      ]
     },
     "metadata": {},
     "output_type": "display_data"
    }
   ],
   "source": [
    "plt.scatter(df_appart_num_fea['Surface reelle bati'],df_appart_num_fea['prix_m2'])\n",
    "plt.xlabel('Surface reelle bati')\n",
    "plt.ylabel('prix_m2')\n",
    "plt.show()"
   ]
  },
  {
   "cell_type": "code",
   "execution_count": 43,
   "id": "b72969d5",
   "metadata": {},
   "outputs": [
    {
     "data": {
      "image/png": "[encoded data removed]",
      "text/plain": [
       "<Figure size 640x480 with 1 Axes>"
      ]
     },
     "metadata": {},
     "output_type": "display_data"
    }
   ],
   "source": [
    "plt.scatter(df_maison_num_fea['Surface terrain'],df_maison_num_fea['prix_m2'])\n",
    "plt.xlabel('Surface terrain')\n",
    "plt.ylabel('prix_m2')\n",
    "plt.show()"
   ]
  },
  {
   "cell_type": "code",
   "execution_count": 44,
   "id": "e8c7364a",
   "metadata": {},
   "outputs": [
    {
     "data": {
      "image/png": "[encoded data removed]",
      "text/plain": [
       "<Figure size 640x480 with 1 Axes>"
      ]
     },
     "metadata": {},
     "output_type": "display_data"
    }
   ],
   "source": [
    "plt.scatter(df_maison_num_fea['Surface reelle bati'],df_maison_num_fea['prix_m2'])\n",
    "plt.xlabel('Surface reelle bati')\n",
    "plt.ylabel('prix_m2')\n",
    "plt.show()"
   ]
  },
  {
   "cell_type": "markdown",
   "id": "dcf9fa8e",
   "metadata": {},
   "source": [
    "## Load models"
   ]
  },
  {
   "cell_type": "code",
   "execution_count": 46,
   "id": "642c14f9",
   "metadata": {},
   "outputs": [],
   "source": [
    "# Load model and scaler\n",
    "import joblib\n",
    "\n",
    "loaded_model_a = joblib.load('../models/model_lille.pkl')['model_a']\n",
    "\n",
    "loaded_scaler_Xa = joblib.load('../models/model_lille.pkl')['scaler_Xa']\n",
    "loaded_scaler_ya = joblib.load('../models/model_lille.pkl')['scaler_ya']\n",
    "\n",
    "loaded_model_m = joblib.load('../models/model_lille.pkl')['model_m']\n",
    "loaded_scaler_Xm = joblib.load('../models/model_lille.pkl')['scaler_Xm']\n",
    "loaded_scaler_ym = joblib.load('../models/model_lille.pkl')['scaler_ym']\n",
    "\n",
    "\n",
    "\n"
   ]
  },
  {
   "cell_type": "markdown",
   "id": "ce73079c",
   "metadata": {},
   "source": [
    "##  X, y calculation"
   ]
  },
  {
   "cell_type": "markdown",
   "id": "17d3ee54",
   "metadata": {},
   "source": [
    "### Appart"
   ]
  },
  {
   "cell_type": "code",
   "execution_count": 47,
   "id": "97073e70",
   "metadata": {},
   "outputs": [],
   "source": [
    "# X, y calculation\n",
    "X_appart = df_appart_to_process.drop(columns=['Type local','prix_m2'], axis = 1)\n",
    "y_appart = df_appart_to_process[['prix_m2']]"
   ]
  },
  {
   "cell_type": "code",
   "execution_count": null,
   "id": "46d4eb86",
   "metadata": {},
   "outputs": [],
   "source": [
    "#  data\n",
    "Xa_scaled = loaded_scaler_Xa.transform(X_appart)\n",
    "ya_scaled = loaded_scaler_ya.transform(y_appart)\n"
   ]
  },
  {
   "cell_type": "markdown",
   "id": "095568df",
   "metadata": {},
   "source": [
    "### Maison"
   ]
  },
  {
   "cell_type": "code",
   "execution_count": 62,
   "id": "9bac82a8",
   "metadata": {},
   "outputs": [],
   "source": [
    "X_maison = df_maison_to_process.drop(columns=['Type local','prix_m2'], axis = 1)\n",
    "y_maison = df_maison_to_process[['prix_m2']]"
   ]
  },
  {
   "cell_type": "code",
   "execution_count": 63,
   "id": "cd7e2836",
   "metadata": {},
   "outputs": [],
   "source": [
    "#  data\n",
    "Xm_scaled = loaded_scaler_Xm.transform(X_maison)\n",
    "ym_scaled = loaded_scaler_ym.transform(y_maison)"
   ]
  },
  {
   "cell_type": "markdown",
   "id": "34ba36a4",
   "metadata": {},
   "source": [
    "## Models Evaluation"
   ]
  },
  {
   "cell_type": "code",
   "execution_count": 53,
   "id": "19412cc7",
   "metadata": {},
   "outputs": [],
   "source": [
    "\n",
    "from sklearn.metrics import mean_squared_error"
   ]
  },
  {
   "cell_type": "code",
   "execution_count": 54,
   "id": "a26e61d3",
   "metadata": {},
   "outputs": [],
   "source": [
    "def get_pred_model(model, X_test):\n",
    "    y_pred = model.predict(X_test)\n",
    "    return y_pred"
   ]
  },
  {
   "cell_type": "code",
   "execution_count": 55,
   "id": "adf0728d",
   "metadata": {},
   "outputs": [],
   "source": [
    "def eval_model(y_test, y_pred):\n",
    "    return mean_squared_error(y_test,y_pred)"
   ]
  },
  {
   "cell_type": "markdown",
   "id": "04e8adc9",
   "metadata": {},
   "source": [
    "### Appart"
   ]
  },
  {
   "cell_type": "code",
   "execution_count": 66,
   "id": "d73cb39f",
   "metadata": {},
   "outputs": [
    {
     "data": {
      "text/plain": [
       "'XGBRegressor'"
      ]
     },
     "execution_count": 66,
     "metadata": {},
     "output_type": "execute_result"
    }
   ],
   "source": [
    "loaded_model_a.__class__.__name__"
   ]
  },
  {
   "cell_type": "code",
   "execution_count": 67,
   "id": "e2324111",
   "metadata": {},
   "outputs": [
    {
     "data": {
      "text/plain": [
       "(56, 4)"
      ]
     },
     "execution_count": 67,
     "metadata": {},
     "output_type": "execute_result"
    }
   ],
   "source": [
    "Xa_scaled.shape"
   ]
  },
  {
   "cell_type": "code",
   "execution_count": 64,
   "id": "c1c587b5",
   "metadata": {},
   "outputs": [
    {
     "data": {
      "text/plain": [
       "0.5051874350629824"
      ]
     },
     "execution_count": 64,
     "metadata": {},
     "output_type": "execute_result"
    }
   ],
   "source": [
    "ya_pred = get_pred_model(loaded_model_a,Xa_scaled)\n",
    "mse_a = eval_model(ya_scaled,ya_pred)\n",
    "mse_a"
   ]
  },
  {
   "cell_type": "markdown",
   "id": "a772e6f6",
   "metadata": {},
   "source": [
    "### Maison"
   ]
  },
  {
   "cell_type": "code",
   "execution_count": 58,
   "id": "97e2a2d4",
   "metadata": {},
   "outputs": [
    {
     "data": {
      "text/plain": [
       "'XGBRegressor'"
      ]
     },
     "execution_count": 58,
     "metadata": {},
     "output_type": "execute_result"
    }
   ],
   "source": [
    "loaded_model_m.__class__.__name__"
   ]
  },
  {
   "cell_type": "code",
   "execution_count": 68,
   "id": "2be5f540",
   "metadata": {},
   "outputs": [
    {
     "data": {
      "text/plain": [
       "(362, 4)"
      ]
     },
     "execution_count": 68,
     "metadata": {},
     "output_type": "execute_result"
    }
   ],
   "source": [
    "Xm_scaled.shape"
   ]
  },
  {
   "cell_type": "code",
   "execution_count": 65,
   "id": "596008a9",
   "metadata": {},
   "outputs": [
    {
     "data": {
      "text/plain": [
       "11.009104908175171"
      ]
     },
     "execution_count": 65,
     "metadata": {},
     "output_type": "execute_result"
    }
   ],
   "source": [
    "ym_pred = get_pred_model(loaded_model_m,Xm_scaled)\n",
    "mse_m = eval_model(ym_scaled,ym_pred)\n",
    "mse_m"
   ]
  },
  {
   "cell_type": "markdown",
   "id": "71ae7640",
   "metadata": {},
   "source": [
    "## Models Evaluation"
   ]
  },
  {
   "cell_type": "code",
   "execution_count": null,
   "id": "2ebaf6c4",
   "metadata": {},
   "outputs": [],
   "source": []
  },
  {
   "cell_type": "markdown",
   "id": "675c1397",
   "metadata": {},
   "source": [
    "## 6. **Comparer des performances entre Lille et Bordeaux pour chaque type de logement** :\n",
    "    - Le modèle n'est pas si performant sur Bordeaux.\n",
    "    - Les écarts de performance \n",
    "      MSE XGBRegressor\n",
    "                  Appart |Maison  \n",
    "      Lille       | 0.21  | 0.85\n",
    "      Bordeaux    | 0.50  | 11.00\n",
    "    \n",
    "    - Les facteurs qui peuvent expliquer ces différences: plusieurs facteurs structurels, statistiques ou liés aux données, d'une manière générale\n",
    "\n",
    "      - plusieurs facteurs structurels, statistiques ou liés aux données, d'une manière générale\n",
    "      -->Différences de distribution des données: Le modèle a appris sur un type de données, mais l’autre ville suit un comportement statistiquement différent.\n",
    "      -->Spécificité géographique (features locales): Les variables utilisées sont trop spécifiques à la ville d’origine.\n",
    "      -->Modèle trop complexe / surapprentissage: Le modèle a mémorisé les détails de Lille, sans apprendre des règles globales-->  Solution :Réduction de max_depth, Ajout de reg_lambda, subsample, early_stopping, Cross-validation rigoureuse\n",
    "      -->Features manquantes ou mal encodées: Certaines variables peuvent avoir un sens différent d’une ville à l’autre ou être manquantes (ex:vue sur mer)--> Solution : Harmoniser les features, les encodages, vérifier les valeurs manquantes\n",
    "      -->Échelle et normalisation : Si tu scales les données (MinMax, StandardScaler), il faut appliquer le même scaler appris sur la ville d'entraînement.\n",
    "      -->Échantillon trop petit ou non représentatif: Le modèle a vu trop peu de cas variés à l’entraînement\n",
    "      \n",
    "                Appart |Maison\n",
    "      Lille     |(49, 4) |  (326, 4)\n",
    "      Bordeaux  |(56, 4) |  (362, 4)\n",
    "      \n",
    "    - Le modèle généralise-t-il mieux sur un type de bien que sur l'autre ?\n",
    "      Non, les performances sont dégradées pour les appart que pour les maisons"
   ]
  }
 ],
 "metadata": {
  "kernelspec": {
   "display_name": "venv",
   "language": "python",
   "name": "python3"
  },
  "language_info": {
   "codemirror_mode": {
    "name": "ipython",
    "version": 3
   },
   "file_extension": ".py",
   "mimetype": "text/x-python",
   "name": "python",
   "nbconvert_exporter": "python",
   "pygments_lexer": "ipython3",
   "version": "3.10.0"
  }
 },
 "nbformat": 4,
 "nbformat_minor": 5
}
