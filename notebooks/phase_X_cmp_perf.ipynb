{
 "cells": [
  {
   "cell_type": "markdown",
   "id": "b9a587d2",
   "metadata": {},
   "source": [
    "# Comparaison des modèles "
   ]
  },
  {
   "cell_type": "code",
   "execution_count": null,
   "id": "6f37633c",
   "metadata": {},
   "outputs": [],
   "source": [
    "# Charger les modèles"
   ]
  },
  {
   "cell_type": "code",
   "execution_count": null,
   "id": "447a88c8",
   "metadata": {},
   "outputs": [],
   "source": [
    "import joblib\n",
    "\n",
    "\n",
    "loaded_scaler_Xa = joblib.load('../models/best_model_lille.pkl')['scaler_Xa']\n",
    "loaded_scaler_ya = joblib.load('../models/best_model_lille.pkl')['scaler_ya']\n",
    "\n",
    "\n",
    "loaded_scaler_Xm = joblib.load('../models/best_model_lille.pkl')['scaler_Xm']\n",
    "loaded_scaler_ym = joblib.load('../models/best_model_lille.pkl')['scaler_ym']\n",
    "\n",
    "\n",
    "# Chargement du fichier pickle\n",
    "models = joblib.load('../models/models_appart_lille.pkl')\n",
    "\n",
    "# Vérification rapide\n",
    "for name, model in models.items():\n",
    "    print(f\"{name}: {type(model)}\")"
   ]
  }
 ],
 "metadata": {
  "kernelspec": {
   "display_name": "venv",
   "language": "python",
   "name": "python3"
  },
  "language_info": {
   "name": "python",
   "version": "3.10.0"
  }
 },
 "nbformat": 4,
 "nbformat_minor": 5
}
